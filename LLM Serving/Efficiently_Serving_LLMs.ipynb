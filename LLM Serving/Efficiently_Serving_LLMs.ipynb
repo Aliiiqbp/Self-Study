{
  "nbformat": 4,
  "nbformat_minor": 0,
  "metadata": {
    "colab": {
      "provenance": [],
      "toc_visible": true,
      "authorship_tag": "ABX9TyPOOPTttfu/U73xCCvBKqPC",
      "include_colab_link": true
    },
    "kernelspec": {
      "name": "python3",
      "display_name": "Python 3"
    },
    "language_info": {
      "name": "python"
    }
  },
  "cells": [
    {
      "cell_type": "markdown",
      "metadata": {
        "id": "view-in-github",
        "colab_type": "text"
      },
      "source": [
        "<a href=\"https://colab.research.google.com/github/Aliiiqbp/Self-Study/blob/main/LLM%20Serving/Efficiently_Serving_LLMs.ipynb\" target=\"_parent\"><img src=\"https://colab.research.google.com/assets/colab-badge.svg\" alt=\"Open In Colab\"/></a>"
      ]
    },
    {
      "cell_type": "markdown",
      "source": [
        "# Text Generation and KV-Cache"
      ],
      "metadata": {
        "id": "MZ_zHVXTQIDv"
      }
    },
    {
      "cell_type": "markdown",
      "source": [
        "imports and model load\n"
      ],
      "metadata": {
        "id": "OWtG-34GB_vc"
      }
    },
    {
      "cell_type": "code",
      "execution_count": null,
      "metadata": {
        "id": "zZ2beNdkxezw"
      },
      "outputs": [],
      "source": [
        "import matplotlib.pyplot as plt\n",
        "import numpy as np\n",
        "import time\n",
        "import torch\n",
        "from transformers import AutoModelForCausalLM, AutoTokenizer"
      ]
    },
    {
      "cell_type": "code",
      "source": [
        "model_name = \"./models/gpt2\"\n",
        "tokenizer = AutoTokenizer.from_pretrained(model_name)\n",
        "model = AutoModelForCausalLM.from_pretrained(model_name)"
      ],
      "metadata": {
        "id": "Fwu0z2leAADk"
      },
      "execution_count": null,
      "outputs": []
    },
    {
      "cell_type": "markdown",
      "source": [
        "### next token generation"
      ],
      "metadata": {
        "id": "VdSutRPyCDUQ"
      }
    },
    {
      "cell_type": "code",
      "source": [
        "prompt = \"The black bear ran into the\"\n",
        "inputs = tokenizer(prompt, return_tensors=\"pt\")\n",
        "inputs"
      ],
      "metadata": {
        "colab": {
          "base_uri": "https://localhost:8080/"
        },
        "id": "aMWd6jOtBq-S",
        "outputId": "8b17eb12-cc4e-449d-bd8c-7d0fa6627d53"
      },
      "execution_count": null,
      "outputs": [
        {
          "output_type": "execute_result",
          "data": {
            "text/plain": [
              "{'input_ids': tensor([[ 464, 2042, 6842, 4966,  656,  262]]), 'attention_mask': tensor([[1, 1, 1, 1, 1, 1]])}"
            ]
          },
          "metadata": {},
          "execution_count": 121
        }
      ]
    },
    {
      "cell_type": "code",
      "source": [
        "with torch.no_grad():\n",
        "    outputs = model(**inputs)\n",
        "\n",
        "logits = outputs.logits\n",
        "print(logits.shape)"
      ],
      "metadata": {
        "colab": {
          "base_uri": "https://localhost:8080/"
        },
        "id": "7X5KupqoCOZB",
        "outputId": "7cbcd5cd-5697-428c-8ea9-e932140dd892"
      },
      "execution_count": null,
      "outputs": [
        {
          "output_type": "stream",
          "name": "stdout",
          "text": [
            "torch.Size([1, 6, 50257])\n"
          ]
        }
      ]
    },
    {
      "cell_type": "code",
      "source": [
        "last_logits = logits[0, -1, :]\n",
        "next_token_id = last_logits.argmax()\n",
        "next_token_id"
      ],
      "metadata": {
        "colab": {
          "base_uri": "https://localhost:8080/"
        },
        "id": "uLrumMN2Cp63",
        "outputId": "a20d973d-ca3c-4081-c0ad-023171bc8266"
      },
      "execution_count": null,
      "outputs": [
        {
          "output_type": "execute_result",
          "data": {
            "text/plain": [
              "tensor(16479)"
            ]
          },
          "metadata": {},
          "execution_count": 123
        }
      ]
    },
    {
      "cell_type": "code",
      "source": [
        "tokenizer.decode(next_token_id)"
      ],
      "metadata": {
        "colab": {
          "base_uri": "https://localhost:8080/",
          "height": 35
        },
        "id": "1TeTGd0jC4U8",
        "outputId": "206aa2f8-635f-4490-bf18-ac228e2e1127"
      },
      "execution_count": null,
      "outputs": [
        {
          "output_type": "execute_result",
          "data": {
            "text/plain": [
              "' woods'"
            ],
            "application/vnd.google.colaboratory.intrinsic+json": {
              "type": "string"
            }
          },
          "metadata": {},
          "execution_count": 124
        }
      ]
    },
    {
      "cell_type": "code",
      "source": [
        "top_k = torch.topk(last_logits, k=10)\n",
        "tokens = [tokenizer.decode(tk) for tk in top_k.indices]\n",
        "tokens"
      ],
      "metadata": {
        "colab": {
          "base_uri": "https://localhost:8080/"
        },
        "id": "TyjkqXCFDIS0",
        "outputId": "1c960942-f8fb-4bed-f80a-ec8d9202a355"
      },
      "execution_count": null,
      "outputs": [
        {
          "output_type": "execute_result",
          "data": {
            "text/plain": [
              "[' woods',\n",
              " ' crowd',\n",
              " ' house',\n",
              " ' forest',\n",
              " ' back',\n",
              " ' bushes',\n",
              " ' street',\n",
              " ' water',\n",
              " ' parking',\n",
              " ' room']"
            ]
          },
          "metadata": {},
          "execution_count": 125
        }
      ]
    },
    {
      "cell_type": "code",
      "source": [
        "next_inputs = {\n",
        "    \"input_ids\": torch.cat(\n",
        "        [inputs[\"input_ids\"], next_token_id.reshape((1, 1))],\n",
        "        dim=1\n",
        "    ),\n",
        "    \"attention_mask\": torch.cat(\n",
        "        [inputs[\"attention_mask\"], torch.tensor([[1]])],\n",
        "        dim=1\n",
        "    ),\n",
        "}\n",
        "\n",
        "\n",
        "print(next_inputs[\"input_ids\"],\n",
        "      next_inputs[\"input_ids\"].shape)\n",
        "print(next_inputs[\"attention_mask\"],\n",
        "      next_inputs[\"attention_mask\"].shape)"
      ],
      "metadata": {
        "colab": {
          "base_uri": "https://localhost:8080/"
        },
        "id": "pjAwoLyWEH8b",
        "outputId": "55e4290c-15eb-41f6-b10a-866497d88a4a"
      },
      "execution_count": null,
      "outputs": [
        {
          "output_type": "stream",
          "name": "stdout",
          "text": [
            "tensor([[  464,  2042,  6842,  4966,   656,   262, 16479]]) torch.Size([1, 7])\n",
            "tensor([[1, 1, 1, 1, 1, 1, 1]]) torch.Size([1, 7])\n"
          ]
        }
      ]
    },
    {
      "cell_type": "markdown",
      "source": [
        "### autoregressive tokens generation"
      ],
      "metadata": {
        "id": "5f6q0t_2FM3j"
      }
    },
    {
      "cell_type": "code",
      "source": [
        "def generate_token(inputs):\n",
        "    with torch.no_grad():\n",
        "        outputs = model(**inputs)\n",
        "\n",
        "    logits = outputs.logits\n",
        "    last_logits = logits[0, -1, :]\n",
        "    next_token_id = last_logits.argmax()\n",
        "    return next_token_id"
      ],
      "metadata": {
        "id": "-fi2edWqE1if"
      },
      "execution_count": null,
      "outputs": []
    },
    {
      "cell_type": "code",
      "source": [
        "generated_tokens = []\n",
        "next_inputs = inputs\n",
        "durations_s = []\n",
        "for _ in range(20):\n",
        "    t0 = time.time()\n",
        "    next_token_id = generate_token(next_inputs)\n",
        "    durations_s += [time.time() - t0]\n",
        "\n",
        "    next_inputs = {\n",
        "        # input id concatenate the last generated token with the input to create the next round input\n",
        "        \"input_ids\": torch.cat(\n",
        "            [next_inputs[\"input_ids\"], next_token_id.reshape((1, 1))],\n",
        "            dim=1),\n",
        "        \"attention_mask\": torch.cat(\n",
        "            [next_inputs[\"attention_mask\"], torch.tensor([[1]])],\n",
        "            dim=1),\n",
        "    }\n",
        "\n",
        "    next_token = tokenizer.decode(next_token_id)\n",
        "    generated_tokens.append(next_token)\n",
        "\n",
        "print(f\"{sum(durations_s)} s\")\n",
        "print(generated_tokens)"
      ],
      "metadata": {
        "colab": {
          "base_uri": "https://localhost:8080/"
        },
        "id": "G_kkGWm1FUH-",
        "outputId": "4d32a29c-242d-49c7-fb3b-e5644c97be7a"
      },
      "execution_count": null,
      "outputs": [
        {
          "output_type": "stream",
          "name": "stdout",
          "text": [
            "7.076610088348389 s\n",
            "[' woods', ' and', ' was', ' chased', ' by', ' a', ' group', ' of', ' white', ' bears', '.', '\\n', '\\n', 'The', ' bear', ' was', ' eventually', ' caught', ' and', ' taken']\n"
          ]
        }
      ]
    },
    {
      "cell_type": "code",
      "source": [
        "plt.plot(durations_s)\n",
        "plt.show()"
      ],
      "metadata": {
        "colab": {
          "base_uri": "https://localhost:8080/",
          "height": 430
        },
        "id": "LAxTX6-vFVy5",
        "outputId": "965c1e4b-68bb-4ea5-f715-ae270bd77c0c"
      },
      "execution_count": null,
      "outputs": [
        {
          "output_type": "display_data",
          "data": {
            "text/plain": [
              "<Figure size 640x480 with 1 Axes>"
            ],
            "image/png": "[encoded data removed]"
          },
          "metadata": {}
        }
      ]
    },
    {
      "cell_type": "markdown",
      "source": [
        "### kv-cache to speed-up the token generation"
      ],
      "metadata": {
        "id": "OBTyaxNQM-tG"
      }
    },
    {
      "cell_type": "code",
      "source": [
        "def generate_token_with_past(inputs):\n",
        "    with torch.no_grad():\n",
        "        outputs = model(**inputs)\n",
        "\n",
        "    logits = outputs.logits\n",
        "    last_logits = logits[0, -1, :]\n",
        "    next_token_id = last_logits.argmax()\n",
        "    return next_token_id, outputs.past_key_values"
      ],
      "metadata": {
        "id": "pl58Fio3GW8d"
      },
      "execution_count": null,
      "outputs": []
    },
    {
      "cell_type": "code",
      "source": [
        "generated_tokens = []\n",
        "next_inputs = inputs\n",
        "durations_cached_s = []\n",
        "for _ in range(20):\n",
        "    t0 = time.time()\n",
        "    next_token_id, past_key_values = \\\n",
        "        generate_token_with_past(next_inputs)\n",
        "    durations_cached_s += [time.time() - t0]\n",
        "\n",
        "    next_inputs = {\n",
        "        # input id only keep the last token, and not the whole concatenated tokens on top of input\n",
        "        \"input_ids\": next_token_id.reshape((1, 1)),\n",
        "        \"attention_mask\": torch.cat(\n",
        "            [next_inputs[\"attention_mask\"], torch.tensor([[1]])],\n",
        "            dim=1),\n",
        "        \"past_key_values\": past_key_values,\n",
        "    }\n",
        "\n",
        "    next_token = tokenizer.decode(next_token_id)\n",
        "    generated_tokens.append(next_token)\n",
        "\n",
        "print(f\"{sum(durations_cached_s)} s\")\n",
        "print(generated_tokens)"
      ],
      "metadata": {
        "colab": {
          "base_uri": "https://localhost:8080/"
        },
        "id": "f9n6RFqrNDuA",
        "outputId": "556bea05-e96c-4f55-b9ad-04328254ac58"
      },
      "execution_count": null,
      "outputs": [
        {
          "output_type": "stream",
          "name": "stdout",
          "text": [
            "2.8880457878112793 s\n",
            "[' woods', ' and', ' was', ' chased', ' by', ' a', ' group', ' of', ' white', ' bears', '.', '\\n', '\\n', 'The', ' bear', ' was', ' eventually', ' caught', ' and', ' taken']\n"
          ]
        }
      ]
    },
    {
      "cell_type": "code",
      "source": [
        "plt.plot(durations_s)\n",
        "plt.plot(durations_cached_s)\n",
        "plt.show()"
      ],
      "metadata": {
        "colab": {
          "base_uri": "https://localhost:8080/",
          "height": 430
        },
        "id": "VzsWy1wGNFft",
        "outputId": "098a28f9-cd2b-4717-8260-61dba07957b0"
      },
      "execution_count": null,
      "outputs": [
        {
          "output_type": "display_data",
          "data": {
            "text/plain": [
              "<Figure size 640x480 with 1 Axes>"
            ],
            "image/png": "[encoded data removed]"
          },
          "metadata": {}
        }
      ]
    },
    {
      "cell_type": "code",
      "source": [],
      "metadata": {
        "id": "Jgyl86ODO4ee"
      },
      "execution_count": null,
      "outputs": []
    },
    {
      "cell_type": "markdown",
      "source": [
        "# Batching"
      ],
      "metadata": {
        "id": "x1PwmgNrQQZc"
      }
    },
    {
      "cell_type": "code",
      "source": [
        "import matplotlib.pyplot as plt\n",
        "import numpy as np\n",
        "import time\n",
        "import torch\n",
        "from transformers import AutoModelForCausalLM, AutoTokenizer\n",
        "from tqdm import tqdm"
      ],
      "metadata": {
        "id": "3JN5XmyEQRvX"
      },
      "execution_count": null,
      "outputs": []
    },
    {
      "cell_type": "code",
      "source": [
        "model_name = \"./models/gpt2\"\n",
        "tokenizer = AutoTokenizer.from_pretrained(model_name)\n",
        "model = AutoModelForCausalLM.from_pretrained(model_name)"
      ],
      "metadata": {
        "id": "6KEgVq1kTCa-"
      },
      "execution_count": null,
      "outputs": []
    },
    {
      "cell_type": "code",
      "source": [
        "prompt = \"The quick brown fox jumped over the\"\n",
        "inputs = tokenizer(prompt, return_tensors=\"pt\")\n",
        "\n",
        "\n",
        "def generate_token_with_past(inputs):\n",
        "    with torch.no_grad():\n",
        "        outputs = model(**inputs)\n",
        "\n",
        "    logits = outputs.logits\n",
        "    last_logits = logits[0, -1, :]\n",
        "    next_token_id = last_logits.argmax()\n",
        "    return next_token_id, outputs.past_key_values\n",
        "\n",
        "\n",
        "def generate(inputs, max_tokens):\n",
        "    generated_tokens = []\n",
        "    next_inputs = inputs\n",
        "    for _ in range(max_tokens):\n",
        "        next_token_id, past_key_values = \\\n",
        "        generate_token_with_past(next_inputs)\n",
        "        next_inputs = {\n",
        "            \"input_ids\": next_token_id.reshape((1, 1)),\n",
        "            \"attention_mask\": torch.cat(\n",
        "                [next_inputs[\"attention_mask\"], torch.tensor([[1]])],\n",
        "                dim=1\n",
        "            ),\n",
        "            \"past_key_values\": past_key_values,\n",
        "        }\n",
        "\n",
        "        next_token = tokenizer.decode(next_token_id)\n",
        "        generated_tokens.append(next_token)\n",
        "    return \"\".join(generated_tokens)\n",
        "\n",
        "\n",
        "tokens = generate(inputs, max_tokens=10)\n",
        "print(tokens)"
      ],
      "metadata": {
        "colab": {
          "base_uri": "https://localhost:8080/"
        },
        "id": "jh6xWPa8TEsh",
        "outputId": "7c84fd72-ba1a-4e60-d0e7-6ca47a4e1991"
      },
      "execution_count": null,
      "outputs": [
        {
          "output_type": "stream",
          "name": "stdout",
          "text": [
            " fence and ran to the other side of the fence\n"
          ]
        }
      ]
    },
    {
      "cell_type": "markdown",
      "source": [
        "### padding and batching matrices"
      ],
      "metadata": {
        "id": "UIl8F3JBTpDs"
      }
    },
    {
      "cell_type": "code",
      "source": [
        "tokenizer.pad_token = tokenizer.eos_token\n",
        "model.config.pad_token_id = model.config.eos_token_id\n",
        "\n",
        "tokenizer.padding_side = \"left\"\n",
        "tokenizer.truncation_side = \"left\""
      ],
      "metadata": {
        "id": "uE_YS5zcTIFf"
      },
      "execution_count": null,
      "outputs": []
    },
    {
      "cell_type": "code",
      "source": [
        "prompts = [\n",
        "    \"The quick brown fox jumped over the\",\n",
        "    \"The rain in Spain falls\",\n",
        "    \"What comes up must\",\n",
        "]\n",
        "\n",
        "inputs = tokenizer(prompts, padding=True, return_tensors=\"pt\")"
      ],
      "metadata": {
        "id": "gUGH1eveUOby"
      },
      "execution_count": null,
      "outputs": []
    },
    {
      "cell_type": "code",
      "source": [
        "print(\"input_ids:\", inputs[\"input_ids\"])\n",
        "print(\"shape:\", inputs[\"input_ids\"].shape)\n",
        "\n",
        "print(\"attention_mask:\", inputs[\"attention_mask\"])\n",
        "print(\"shape:\", inputs[\"attention_mask\"].shape)\n",
        "\n",
        "### in attention mask, we have 0's for padding tokens and 1's for the actual tokens."
      ],
      "metadata": {
        "colab": {
          "base_uri": "https://localhost:8080/"
        },
        "id": "WEBafJKyUO-d",
        "outputId": "8a12bbc1-c624-4c12-de9e-529530383e7b"
      },
      "execution_count": null,
      "outputs": [
        {
          "output_type": "stream",
          "name": "stdout",
          "text": [
            "input_ids: tensor([[  464,  2068,  7586, 21831, 11687,   625,   262],\n",
            "        [50256, 50256,   464,  6290,   287,  8602,  8953],\n",
            "        [50256, 50256, 50256,  2061,  2058,   510,  1276]])\n",
            "shape: torch.Size([3, 7])\n",
            "attention_mask: tensor([[1, 1, 1, 1, 1, 1, 1],\n",
            "        [0, 0, 1, 1, 1, 1, 1],\n",
            "        [0, 0, 0, 1, 1, 1, 1]])\n",
            "shape: torch.Size([3, 7])\n"
          ]
        }
      ]
    },
    {
      "cell_type": "code",
      "source": [
        "### positions are described in increasing integers sequence. 1's means padding tokens\n",
        "### the first 0 means the begining of the actual tokens and prompts and gradually would\n",
        "### increased by 1 at each index to give the model a sense of token's positions\n",
        "\n",
        "attention_mask = inputs[\"attention_mask\"]\n",
        "position_ids = attention_mask.long().cumsum(-1) - 1\n",
        "position_ids.masked_fill_(attention_mask == 0, 1)"
      ],
      "metadata": {
        "colab": {
          "base_uri": "https://localhost:8080/"
        },
        "id": "RK7YlGlfUVCq",
        "outputId": "7c7c35c7-6d1e-4106-85d3-c6ef0710cf29"
      },
      "execution_count": null,
      "outputs": [
        {
          "output_type": "execute_result",
          "data": {
            "text/plain": [
              "tensor([[0, 1, 2, 3, 4, 5, 6],\n",
              "        [1, 1, 0, 1, 2, 3, 4],\n",
              "        [1, 1, 1, 0, 1, 2, 3]])"
            ]
          },
          "metadata": {},
          "execution_count": 139
        }
      ]
    },
    {
      "cell_type": "code",
      "source": [
        "# same as before, but include the position_ids\n",
        "with torch.no_grad():\n",
        "    outputs = model(position_ids=position_ids, **inputs)\n",
        "logits = outputs.logits\n",
        "\n",
        "'''\n",
        "previously, we only got argmax of logits for the first element in the batch\n",
        "now, we are doing it over the batch dimension to get the argmax for each element\n",
        "basically, we are getting the max logits for each prompt in the batch\n",
        "last_logits = logits[0:, -1, :]\n",
        "'''\n",
        "last_logits = logits[:, -1, :]\n",
        "next_token_ids = last_logits.argmax(dim=1)\n",
        "print(next_token_ids)\n",
        "\n",
        "next_tokens = tokenizer.batch_decode(next_token_ids)\n",
        "next_tokens\n",
        "\n",
        "for i in range(len(prompts)):\n",
        "    print('batch', i, ':', prompts[i], \"##### NEXT TOKEN:\", next_tokens[i])"
      ],
      "metadata": {
        "colab": {
          "base_uri": "https://localhost:8080/"
        },
        "id": "F5gnI0iPVVIn",
        "outputId": "85afb9fb-b6f0-42ac-8fd5-37c91f71b40e"
      },
      "execution_count": null,
      "outputs": [
        {
          "output_type": "stream",
          "name": "stdout",
          "text": [
            "tensor([13990,   319,   307])\n",
            "batch 0 : The quick brown fox jumped over the ##### NEXT TOKEN:  fence\n",
            "batch 1 : The rain in Spain falls ##### NEXT TOKEN:  on\n",
            "batch 2 : What comes up must ##### NEXT TOKEN:  be\n"
          ]
        }
      ]
    },
    {
      "cell_type": "markdown",
      "source": [
        "### generating multiple token for each prompt in the batch"
      ],
      "metadata": {
        "id": "MhDVgMOvYF4k"
      }
    },
    {
      "cell_type": "code",
      "source": [
        "def generate_batch_tokens_with_past(inputs):\n",
        "    with torch.no_grad():\n",
        "        outputs = model(**inputs)\n",
        "\n",
        "    logits = outputs.logits\n",
        "    last_logits = logits[:, -1, :]\n",
        "    next_token_ids = last_logits.argmax(dim=1)\n",
        "    return next_token_ids, outputs.past_key_values\n",
        "\n",
        "\n",
        "def generate_batch(inputs, max_tokens):\n",
        "    # create a list of tokens for every input in the batch\n",
        "    generated_tokens = [\n",
        "        [] for _ in range(inputs[\"input_ids\"].shape[0])\n",
        "    ]\n",
        "\n",
        "    attention_mask = inputs[\"attention_mask\"]\n",
        "    position_ids = attention_mask.long().cumsum(-1) - 1\n",
        "    position_ids.masked_fill_(attention_mask == 0, 1)\n",
        "\n",
        "    next_inputs = {\n",
        "        \"position_ids\": position_ids,\n",
        "        **inputs\n",
        "    }\n",
        "\n",
        "    for _ in range(max_tokens):\n",
        "        next_token_ids, past_key_values = \\\n",
        "            generate_batch_tokens_with_past(next_inputs)\n",
        "\n",
        "        next_inputs = {\n",
        "            \"input_ids\": next_token_ids.reshape((-1, 1)),\n",
        "            \"position_ids\": next_inputs[\"position_ids\"][:, -1].unsqueeze(-1) + 1,\n",
        "            \"attention_mask\": torch.cat([\n",
        "                next_inputs[\"attention_mask\"],\n",
        "                torch.ones((next_token_ids.shape[0], 1)),\n",
        "            ], dim=1),\n",
        "            \"past_key_values\": past_key_values,\n",
        "        }\n",
        "\n",
        "        next_tokens = tokenizer.batch_decode(next_token_ids)\n",
        "        for i, token in enumerate(next_tokens):\n",
        "            generated_tokens[i].append(token)\n",
        "    return [\"\".join(tokens) for tokens in generated_tokens]"
      ],
      "metadata": {
        "id": "_OW-fmhEXAk8"
      },
      "execution_count": null,
      "outputs": []
    },
    {
      "cell_type": "code",
      "source": [
        "generated_tokens = generate_batch(inputs, max_tokens=10)\n",
        "\n",
        "for prompt, generated in zip(prompts, generated_tokens):\n",
        "    print(prompt, f\"\\x1b[31m{generated}\\x1b[0m\\n\")"
      ],
      "metadata": {
        "colab": {
          "base_uri": "https://localhost:8080/"
        },
        "id": "gjgsN2ByYRtT",
        "outputId": "978d2e61-c6f5-4c8b-9009-8b3ede3974d2"
      },
      "execution_count": null,
      "outputs": [
        {
          "output_type": "stream",
          "name": "stdout",
          "text": [
            "The quick brown fox jumped over the \u001b[31m fence and ran to the other side of the fence\u001b[0m\n",
            "\n",
            "The rain in Spain falls \u001b[31m on the first day of the month, and the\u001b[0m\n",
            "\n",
            "What comes up must \u001b[31m be a good idea.\n",
            "\n",
            "\"I think\u001b[0m\n",
            "\n"
          ]
        }
      ]
    },
    {
      "cell_type": "markdown",
      "source": [
        "### throughput and latency comparision"
      ],
      "metadata": {
        "id": "KyXhVdwTYjik"
      }
    },
    {
      "cell_type": "code",
      "source": [
        "# constants\n",
        "max_tokens = 10\n",
        "\n",
        "# observations\n",
        "durations = []\n",
        "throughputs = []\n",
        "latencies = []\n",
        "\n",
        "batch_sizes = [2**p for p in range(8)]\n",
        "for batch_size in batch_sizes:\n",
        "    print(f\"bs= {batch_size}\")\n",
        "\n",
        "    # generate tokens for batch and record duration\n",
        "    t0 = time.time()\n",
        "    batch_prompts = [\n",
        "        prompts[i % len(prompts)] for i in range(batch_size)\n",
        "    ]\n",
        "    inputs = tokenizer(\n",
        "        batch_prompts, padding=True, return_tensors=\"pt\"\n",
        "    )\n",
        "    generated_tokens = generate_batch(inputs, max_tokens=max_tokens)\n",
        "    duration_s = time.time() - t0\n",
        "\n",
        "    ntokens = batch_size * max_tokens\n",
        "    throughput = ntokens / duration_s\n",
        "    avg_latency = duration_s / max_tokens\n",
        "    print(\"duration\", duration_s)\n",
        "    print(\"throughput\", throughput)\n",
        "    print(\"avg latency\", avg_latency)\n",
        "    print()\n",
        "\n",
        "    durations.append(duration_s)\n",
        "    throughputs.append(throughput)\n",
        "    latencies.append(avg_latency)"
      ],
      "metadata": {
        "colab": {
          "base_uri": "https://localhost:8080/"
        },
        "id": "SC7vAg9iYY-B",
        "outputId": "8034df93-ac7d-4be1-d947-b34d33bccc22"
      },
      "execution_count": null,
      "outputs": [
        {
          "output_type": "stream",
          "name": "stdout",
          "text": [
            "bs= 1\n",
            "duration 1.6844439506530762\n",
            "throughput 5.936677202065939\n",
            "avg latency 0.16844439506530762\n",
            "\n",
            "bs= 2\n",
            "duration 3.505858898162842\n",
            "throughput 5.704736151954234\n",
            "avg latency 0.3505858898162842\n",
            "\n",
            "bs= 4\n",
            "duration 2.7993311882019043\n",
            "throughput 14.289127406069168\n",
            "avg latency 0.27993311882019045\n",
            "\n",
            "bs= 8\n",
            "duration 3.6018128395080566\n",
            "throughput 22.211037487146772\n",
            "avg latency 0.3601812839508057\n",
            "\n",
            "bs= 16\n",
            "duration 7.674971342086792\n",
            "throughput 20.846983378637173\n",
            "avg latency 0.7674971342086792\n",
            "\n",
            "bs= 32\n",
            "duration 7.098261594772339\n",
            "throughput 45.08146054178541\n",
            "avg latency 0.7098261594772339\n",
            "\n",
            "bs= 64\n",
            "duration 12.223371744155884\n",
            "throughput 52.358711932817585\n",
            "avg latency 1.2223371744155884\n",
            "\n",
            "bs= 128\n",
            "duration 12.641512155532837\n",
            "throughput 101.2537095445326\n",
            "avg latency 1.2641512155532837\n",
            "\n"
          ]
        }
      ]
    },
    {
      "cell_type": "code",
      "source": [
        "def render_plot(x, y1, y2, x_label, y1_label, y2_label):\n",
        "    # Create a figure and a set of subplots\n",
        "    fig, ax1 = plt.subplots()\n",
        "\n",
        "    # Plot the first line (throughput)\n",
        "    color = 'tab:red'\n",
        "    ax1.set_xlabel(x_label)\n",
        "    ax1.set_ylabel(y1_label, color=color)\n",
        "    ax1.plot(x, y1, color=color)\n",
        "    ax1.tick_params(axis='y', labelcolor=color)\n",
        "\n",
        "    # Set the x-axis to be log-scaled\n",
        "    ax1.set_xscale('log', base=2)\n",
        "\n",
        "    # Instantiate a second axes that shares the same x-axis\n",
        "    ax2 = ax1.twinx()\n",
        "    color = 'tab:blue'\n",
        "    ax2.set_ylabel(y2_label, color=color)  # we already handled the x-label with ax1\n",
        "    ax2.plot(x, y2, color=color)\n",
        "    ax2.tick_params(axis='y', labelcolor=color)\n",
        "\n",
        "    plt.show()\n",
        "\n",
        "\n",
        "### plot the throughput vs latency by increasing the batch size\n",
        "render_plot(\n",
        "    batch_sizes,\n",
        "    throughputs,\n",
        "    latencies,\n",
        "    \"Batch Size\",\n",
        "    \"Throughput\",\n",
        "    \"Latency\"\n",
        ")"
      ],
      "metadata": {
        "colab": {
          "base_uri": "https://localhost:8080/",
          "height": 454
        },
        "id": "b3GNlArymF4U",
        "outputId": "98a5233e-6a21-4c7d-93ee-843a00b5670d"
      },
      "execution_count": null,
      "outputs": [
        {
          "output_type": "display_data",
          "data": {
            "text/plain": [
              "<Figure size 640x480 with 2 Axes>"
            ],
            "image/png": "[encoded data removed]"
          },
          "metadata": {}
        }
      ]
    },
    {
      "cell_type": "markdown",
      "source": [
        "# Continuous Batching\n",
        "High throughput and low latency solution to solve the trade-off between these two metrics"
      ],
      "metadata": {
        "id": "9kWVwjuyrj1f"
      }
    },
    {
      "cell_type": "code",
      "source": [
        "# Import all needed functions from Lesson 1 and 2\n",
        "\n",
        "import helpers\n",
        "from helpers import init_batch, generate_next_token\n",
        "from helpers import merge_batches, filter_batch\n",
        "\n",
        "import copy\n",
        "import matplotlib.pyplot as plt\n",
        "import numpy as np\n",
        "import random\n",
        "import time\n",
        "import torch\n",
        "import torch.nn.functional as F\n",
        "from tqdm import tqdm\n",
        "from transformers import AutoModelForCausalLM, AutoTokenizer"
      ],
      "metadata": {
        "id": "92dhoGpnnCIc"
      },
      "execution_count": null,
      "outputs": []
    },
    {
      "cell_type": "code",
      "source": [
        "model_name = \"./models/gpt2\"\n",
        "tokenizer = AutoTokenizer.from_pretrained(model_name)\n",
        "model = AutoModelForCausalLM.from_pretrained(model_name)"
      ],
      "metadata": {
        "id": "mr42Kd1rsa34"
      },
      "execution_count": null,
      "outputs": []
    },
    {
      "cell_type": "code",
      "source": [
        "# Define PAD Token = EOS Token = 50256\n",
        "tokenizer.pad_token = tokenizer.eos_token\n",
        "model.config.pad_token_id = model.config.eos_token_id\n",
        "\n",
        "# pad on the left so we can append new tokens on the right\n",
        "tokenizer.padding_side = \"left\"\n",
        "tokenizer.truncation_side = \"left\"\n",
        "\n",
        "# multiple prompts of varying lengths to send to the model at once\n",
        "prompts = [\n",
        "    \"The quick brown fox jumped over the\",\n",
        "    \"The rain in Spain falls\",\n",
        "    \"What comes up must\",\n",
        "]\n",
        "\n",
        "# note: padding=True ensures the padding token will be inserted into the tokenized tensors\n",
        "inputs = tokenizer(prompts, padding=True, return_tensors=\"pt\")"
      ],
      "metadata": {
        "id": "mE3i3nmCsndc"
      },
      "execution_count": null,
      "outputs": []
    },
    {
      "cell_type": "code",
      "source": [
        "def generate_batch_tokens_with_past(inputs):\n",
        "    with torch.no_grad():\n",
        "        outputs = model(**inputs)\n",
        "\n",
        "    logits = outputs.logits\n",
        "    last_logits = logits[:, -1, :]\n",
        "    next_token_ids = last_logits.argmax(dim=1)\n",
        "    return next_token_ids, outputs.past_key_values\n",
        "\n",
        "\n",
        "def generate_batch(inputs, max_tokens):\n",
        "    # create a list of tokens for every input in the batch\n",
        "    generated_tokens = [[] for _ in range(inputs[\"input_ids\"].shape[0])]\n",
        "\n",
        "    attention_mask = inputs[\"attention_mask\"]\n",
        "    position_ids = attention_mask.long().cumsum(-1) - 1\n",
        "    position_ids.masked_fill_(attention_mask == 0, 1)\n",
        "\n",
        "    next_inputs = {\n",
        "        \"position_ids\": position_ids,\n",
        "        **inputs\n",
        "    }\n",
        "    for _ in range(max_tokens):\n",
        "        next_token_ids, past_key_values = generate_batch_tokens_with_past(next_inputs)\n",
        "        next_inputs = {\n",
        "            \"input_ids\": next_token_ids.reshape((-1, 1)),  # '-1' here means the remaining elements for this dim\n",
        "            \"position_ids\": next_inputs[\"position_ids\"][:, -1].unsqueeze(-1) + 1,  # increment last, discard the rest\n",
        "            \"attention_mask\": torch.cat([\n",
        "                next_inputs[\"attention_mask\"],\n",
        "                torch.ones((next_token_ids.shape[0], 1)),  # concatenate vector of 1's with shape [batch_size]\n",
        "            ], dim=1),\n",
        "            \"past_key_values\": past_key_values,\n",
        "        }\n",
        "\n",
        "        next_tokens = tokenizer.batch_decode(next_token_ids)\n",
        "        for i, token in enumerate(next_tokens):\n",
        "            generated_tokens[i].append(token)\n",
        "    return [\"\".join(tokens) for tokens in generated_tokens]"
      ],
      "metadata": {
        "id": "nrdS0iwZtCbn"
      },
      "execution_count": null,
      "outputs": []
    },
    {
      "cell_type": "code",
      "source": [
        "# seed the random number generator so our results are deterministic\n",
        "random.seed(42)\n",
        "\n",
        "# constants\n",
        "queue_size = 32\n",
        "batch_size = 8\n",
        "\n",
        "# requests waiting to be processed\n",
        "# requests are tuples (prompt, max_tokens)\n",
        "request_queue = [\n",
        "    (prompts[0], 100 if i % batch_size == 0 else 10)\n",
        "    for i in range(queue_size)\n",
        "]"
      ],
      "metadata": {
        "id": "nNswCNMHtWNL"
      },
      "execution_count": null,
      "outputs": []
    },
    {
      "cell_type": "code",
      "source": [
        "batches = [\n",
        "    request_queue[i:i + batch_size]\n",
        "    for i in range(0, len(request_queue), batch_size)\n",
        "]\n",
        "\n",
        "print(len(batches))\n",
        "batches[0]"
      ],
      "metadata": {
        "colab": {
          "base_uri": "https://localhost:8080/"
        },
        "id": "DFCatf8EtaYD",
        "outputId": "847ed941-d8f1-4425-a6a2-17c73ba42865"
      },
      "execution_count": null,
      "outputs": [
        {
          "output_type": "stream",
          "name": "stdout",
          "text": [
            "4\n"
          ]
        },
        {
          "output_type": "execute_result",
          "data": {
            "text/plain": [
              "[('The quick brown fox jumped over the', 100),\n",
              " ('The quick brown fox jumped over the', 10),\n",
              " ('The quick brown fox jumped over the', 10),\n",
              " ('The quick brown fox jumped over the', 10),\n",
              " ('The quick brown fox jumped over the', 10),\n",
              " ('The quick brown fox jumped over the', 10),\n",
              " ('The quick brown fox jumped over the', 10),\n",
              " ('The quick brown fox jumped over the', 10)]"
            ]
          },
          "metadata": {},
          "execution_count": 151
        }
      ]
    },
    {
      "cell_type": "markdown",
      "source": [
        "regular batching"
      ],
      "metadata": {
        "id": "4yNAknyEwlNm"
      }
    },
    {
      "cell_type": "code",
      "source": [
        "# generate tokens for all batches and record duration\n",
        "t0 = time.time()\n",
        "with tqdm(total=len(batches), desc=f\"bs={batch_size}\") as pbar:\n",
        "    for i, batch in enumerate(batches):\n",
        "        # to accommodate all the requests with our\n",
        "        # current implementation, we take the max of\n",
        "        # all the tokens to generate among the requests\n",
        "        batch_max_tokens = [b[1] for b in batch]\n",
        "        max_tokens = max(batch_max_tokens)\n",
        "        pbar.set_postfix({'max_tokens': max_tokens})\n",
        "\n",
        "        batch_prompts = [b[0] for b in batch]\n",
        "        inputs = tokenizer(\n",
        "            batch_prompts, padding=True, return_tensors=\"pt\")\n",
        "        generate_batch(inputs, max_tokens=max_tokens)\n",
        "\n",
        "        pbar.update(1)\n",
        "\n",
        "duration_s = time.time() - t0\n",
        "print(\"duration\", duration_s)"
      ],
      "metadata": {
        "colab": {
          "base_uri": "https://localhost:8080/"
        },
        "id": "13t6-XV_ti1U",
        "outputId": "e4cb0929-c22a-4599-d389-5243689b7ac0"
      },
      "execution_count": null,
      "outputs": [
        {
          "output_type": "stream",
          "name": "stderr",
          "text": [
            "bs=8: 100%|██████████| 4/4 [01:27<00:00, 21.93s/it, max_tokens=100]"
          ]
        },
        {
          "output_type": "stream",
          "name": "stdout",
          "text": [
            "duration 87.74055886268616\n"
          ]
        },
        {
          "output_type": "stream",
          "name": "stderr",
          "text": [
            "\n"
          ]
        }
      ]
    },
    {
      "cell_type": "markdown",
      "source": [
        "continuous batching\n",
        "\n",
        "rebatching the whole process in each time-step, instead of only at the begining. Either a new request might comes or one request in the batch has been done, we should recompute the batch structure, and apply this dynamic change and check the state of the batch at each step of calling the model."
      ],
      "metadata": {
        "id": "JvEW3qwdwoof"
      }
    },
    {
      "cell_type": "code",
      "source": [
        "random.seed(42)\n",
        "\n",
        "\n",
        "queue_size = 32\n",
        "batch_size = 8\n",
        "\n",
        "\n",
        "request_queue = [\n",
        "    (prompts[0], 100 if i % batch_size == 0 else 10)\n",
        "    for i in range(queue_size)\n",
        "]\n",
        "\n",
        "t0 = time.time()\n",
        "with tqdm(total=len(request_queue), desc=f\"bs={batch_size}\") as pbar:\n",
        "\n",
        "    batch = init_batch(request_queue[:batch_size])\n",
        "    cached_batch = generate_next_token(batch)\n",
        "    request_queue = request_queue[batch_size:]\n",
        "\n",
        "\n",
        "    while (\n",
        "        len(request_queue) > 0 or\n",
        "        cached_batch[\"input_ids\"].size(0) > 0\n",
        "    ):\n",
        "        batch_capacity = (\n",
        "            batch_size - cached_batch[\"input_ids\"].size(0)\n",
        "        )\n",
        "        if batch_capacity > 0 and len(request_queue) > 0:\n",
        "            # prefill\n",
        "            new_batch = init_batch(request_queue[:batch_capacity])\n",
        "            new_batch = generate_next_token(new_batch)\n",
        "            request_queue = request_queue[batch_capacity:]\n",
        "\n",
        "            # merge\n",
        "            cached_batch = merge_batches(cached_batch, new_batch)\n",
        "\n",
        "        # decode\n",
        "        cached_batch = generate_next_token(cached_batch)\n",
        "\n",
        "        # remove any inputs that have finished generation\n",
        "        cached_batch, removed_indices = filter_batch(cached_batch)\n",
        "        pbar.update(len(removed_indices))\n",
        "\n",
        "duration_s = time.time() - t0\n",
        "print(\"duration\", duration_s)"
      ],
      "metadata": {
        "colab": {
          "base_uri": "https://localhost:8080/"
        },
        "id": "QpUkCthuwdav",
        "outputId": "6625eeeb-00b0-4977-9c34-40a97fbcb09e"
      },
      "execution_count": null,
      "outputs": [
        {
          "output_type": "stream",
          "name": "stderr",
          "text": [
            "bs=8: 100%|██████████| 32/32 [00:30<00:00,  1.04it/s]"
          ]
        },
        {
          "output_type": "stream",
          "name": "stdout",
          "text": [
            "duration 30.67006516456604\n"
          ]
        },
        {
          "output_type": "stream",
          "name": "stderr",
          "text": [
            "\n"
          ]
        }
      ]
    },
    {
      "cell_type": "code",
      "source": [],
      "metadata": {
        "id": "rrLO-lBrwerb"
      },
      "execution_count": null,
      "outputs": []
    },
    {
      "cell_type": "markdown",
      "source": [
        "# Quantization"
      ],
      "metadata": {
        "id": "uXbDfCszJ7Gq"
      }
    },
    {
      "cell_type": "code",
      "source": [
        "import copy\n",
        "import matplotlib.pyplot as plt\n",
        "import numpy as np\n",
        "import random\n",
        "import time\n",
        "import torch\n",
        "import torch.nn.functional as F\n",
        "from tqdm import tqdm\n",
        "from transformers import AutoModelForCausalLM, AutoTokenizer\n",
        "from transformers.models.gpt2.modeling_gpt2 import GPT2Model\n",
        "from utils import generate\n",
        "\n",
        "model_name = \"./models/gpt2\"\n",
        "tokenizer = AutoTokenizer.from_pretrained(model_name)\n",
        "model = AutoModelForCausalLM.from_pretrained(model_name)"
      ],
      "metadata": {
        "id": "NZeMmvRVJ80B"
      },
      "execution_count": null,
      "outputs": []
    },
    {
      "cell_type": "code",
      "source": [
        "tokenizer.pad_token = tokenizer.eos_token\n",
        "model.config.pad_token_id = model.config.eos_token_id\n",
        "\n",
        "tokenizer.padding_side = \"left\"\n",
        "tokenizer.truncation_side = \"left\""
      ],
      "metadata": {
        "id": "HXl_uOixKQIv"
      },
      "execution_count": null,
      "outputs": []
    },
    {
      "cell_type": "code",
      "source": [
        "# fix dtype post quantization to \"pretend\" to be fp32\n",
        "def get_float32_dtype(self):\n",
        "    return torch.float32\n",
        "GPT2Model.dtype = property(get_float32_dtype)\n",
        "\n",
        "model.get_memory_footprint()"
      ],
      "metadata": {
        "colab": {
          "base_uri": "https://localhost:8080/"
        },
        "id": "EJycddN-Kne0",
        "outputId": "ba2fa178-21da-4471-cc2e-1e2d770c473e"
      },
      "execution_count": null,
      "outputs": [
        {
          "output_type": "execute_result",
          "data": {
            "text/plain": [
              "510342192"
            ]
          },
          "metadata": {},
          "execution_count": 158
        }
      ]
    },
    {
      "cell_type": "markdown",
      "source": [
        "zero-point quantization"
      ],
      "metadata": {
        "id": "OpO284DRNjJ0"
      }
    },
    {
      "cell_type": "code",
      "source": [
        "def quantize(t):\n",
        "    min_val, max_val = t.min(), t.max()\n",
        "\n",
        "    scale = (max_val - min_val) / 255\n",
        "    zero_point = min_val\n",
        "\n",
        "    t_quant = (t - zero_point) / scale\n",
        "    t_quant = torch.clamp(t_quant, min=0, max=255)\n",
        "\n",
        "    # keep track of scale and zero_point for reversing quantization\n",
        "    ##### the metadata values needed to restore the actual values in the network\n",
        "    ##### by saving this, we can reconstruct the actual weights without needing to\n",
        "    ##### save them precisely. However, there is a loss, associated with this functionality\n",
        "    ##### as we reduce the mem size, we can not precisely recover the actual values we had at first step\n",
        "    ##### So, this is not a lossless function, it is applicable due to its minimal loss.\n",
        "    state = (scale, zero_point)\n",
        "\n",
        "    # cast to uint8 and return\n",
        "    t_quant = t_quant.type(torch.uint8)\n",
        "    return t_quant, state"
      ],
      "metadata": {
        "id": "TGEebvGQKnxj"
      },
      "execution_count": null,
      "outputs": []
    },
    {
      "cell_type": "code",
      "source": [
        "t = model.transformer.h[0].attn.c_attn.weight.data\n",
        "print(t, t.shape)"
      ],
      "metadata": {
        "colab": {
          "base_uri": "https://localhost:8080/"
        },
        "id": "xnmABT3wM5Uk",
        "outputId": "e0089061-6690-4725-fd2d-ced874718d90"
      },
      "execution_count": null,
      "outputs": [
        {
          "output_type": "stream",
          "name": "stdout",
          "text": [
            "tensor([[-0.4738, -0.2614, -0.0978,  ...,  0.0513, -0.0584,  0.0250],\n",
            "        [ 0.0874,  0.1473,  0.2387,  ..., -0.0525, -0.0113, -0.0156],\n",
            "        [ 0.0039,  0.0695,  0.3668,  ...,  0.1143,  0.0363, -0.0318],\n",
            "        ...,\n",
            "        [-0.2592, -0.0164,  0.1991,  ...,  0.0095, -0.0516,  0.0319],\n",
            "        [ 0.1517,  0.2170,  0.1043,  ...,  0.0293, -0.0429, -0.0475],\n",
            "        [-0.4100, -0.1924, -0.2400,  ..., -0.0046,  0.0070,  0.0198]]) torch.Size([768, 2304])\n"
          ]
        }
      ]
    },
    {
      "cell_type": "code",
      "source": [
        "t_q, state = quantize(t)\n",
        "print(t_q, t_q.min(), t_q.max())"
      ],
      "metadata": {
        "colab": {
          "base_uri": "https://localhost:8080/"
        },
        "id": "V54jqp1UNlCL",
        "outputId": "60d5d015-eb07-4204-ae81-113451ef664e"
      },
      "execution_count": null,
      "outputs": [
        {
          "output_type": "stream",
          "name": "stdout",
          "text": [
            "tensor([[107, 116, 124,  ..., 130, 125, 129],\n",
            "        [132, 135, 139,  ..., 126, 128, 127],\n",
            "        [128, 131, 145,  ..., 133, 130, 127],\n",
            "        ...,\n",
            "        [116, 127, 137,  ..., 129, 126, 130],\n",
            "        [135, 138, 133,  ..., 129, 126, 126],\n",
            "        [110, 119, 117,  ..., 128, 128, 129]], dtype=torch.uint8) tensor(0, dtype=torch.uint8) tensor(255, dtype=torch.uint8)\n"
          ]
        }
      ]
    },
    {
      "cell_type": "markdown",
      "source": [
        "zero-point dequantization"
      ],
      "metadata": {
        "id": "dQ7FfbqkNxwU"
      }
    },
    {
      "cell_type": "code",
      "source": [
        "def dequantize(t, state):\n",
        "    scale, zero_point = state\n",
        "    return t.to(torch.float32) * scale + zero_point"
      ],
      "metadata": {
        "id": "kxKwlPbkNooq"
      },
      "execution_count": null,
      "outputs": []
    },
    {
      "cell_type": "code",
      "source": [
        "t_rev = dequantize(t_q, state)\n",
        "print(t_rev)"
      ],
      "metadata": {
        "colab": {
          "base_uri": "https://localhost:8080/"
        },
        "id": "-UyzEQrYN2i4",
        "outputId": "f5e113a6-913b-4b66-a42f-a267cdb13a49"
      },
      "execution_count": null,
      "outputs": [
        {
          "output_type": "stream",
          "name": "stdout",
          "text": [
            "tensor([[-0.4774, -0.2783, -0.1014,  ...,  0.0313, -0.0793,  0.0092],\n",
            "        [ 0.0755,  0.1419,  0.2303,  ..., -0.0572, -0.0129, -0.0351],\n",
            "        [-0.0129,  0.0534,  0.3630,  ...,  0.0976,  0.0313, -0.0351],\n",
            "        ...,\n",
            "        [-0.2783, -0.0351,  0.1861,  ...,  0.0092, -0.0572,  0.0313],\n",
            "        [ 0.1419,  0.2082,  0.0976,  ...,  0.0092, -0.0572, -0.0572],\n",
            "        [-0.4110, -0.2120, -0.2562,  ..., -0.0129, -0.0129,  0.0092]])\n"
          ]
        }
      ]
    },
    {
      "cell_type": "code",
      "source": [
        "### the loss information after quant and dequant a given input value\n",
        "torch.abs(t - t_rev)"
      ],
      "metadata": {
        "colab": {
          "base_uri": "https://localhost:8080/"
        },
        "id": "YXrh0Fv2N2xx",
        "outputId": "f927976c-c7b9-41eb-ccf3-53bdf87a0abd"
      },
      "execution_count": null,
      "outputs": [
        {
          "output_type": "execute_result",
          "data": {
            "text/plain": [
              "tensor([[0.0035, 0.0170, 0.0036,  ..., 0.0200, 0.0209, 0.0158],\n",
              "        [0.0119, 0.0055, 0.0084,  ..., 0.0046, 0.0017, 0.0195],\n",
              "        [0.0168, 0.0161, 0.0038,  ..., 0.0167, 0.0050, 0.0032],\n",
              "        ...,\n",
              "        [0.0191, 0.0187, 0.0131,  ..., 0.0004, 0.0056, 0.0006],\n",
              "        [0.0098, 0.0088, 0.0067,  ..., 0.0202, 0.0143, 0.0097],\n",
              "        [0.0010, 0.0196, 0.0162,  ..., 0.0084, 0.0199, 0.0107]])"
            ]
          },
          "metadata": {},
          "execution_count": 171
        }
      ]
    },
    {
      "cell_type": "markdown",
      "source": [
        "### model without quantization"
      ],
      "metadata": {
        "id": "JwFLsUbhPeue"
      }
    },
    {
      "cell_type": "code",
      "source": [
        "### check the model output without quantization\n",
        "\n",
        "response_expected = generate(\n",
        "    model,\n",
        "    tokenizer,\n",
        "    [(\"The quick brown fox jumped over the\", 10)]\n",
        ")[0]\n",
        "response_expected"
      ],
      "metadata": {
        "colab": {
          "base_uri": "https://localhost:8080/",
          "height": 35
        },
        "id": "34Xlldg3OCVt",
        "outputId": "8eab23fa-bde0-43b4-ee1b-5e6f405b6c17"
      },
      "execution_count": null,
      "outputs": [
        {
          "output_type": "execute_result",
          "data": {
            "text/plain": [
              "'The quick brown fox jumped over the fence and ran to the other side of the fence'"
            ],
            "application/vnd.google.colaboratory.intrinsic+json": {
              "type": "string"
            }
          },
          "metadata": {},
          "execution_count": 172
        }
      ]
    },
    {
      "cell_type": "markdown",
      "source": [
        "### model with quantization"
      ],
      "metadata": {
        "id": "VZs6hsbgPiic"
      }
    },
    {
      "cell_type": "code",
      "source": [
        "def quantize_model(model):\n",
        "    states = {}\n",
        "    for name, param in model.named_parameters():\n",
        "        param.requires_grad = False\n",
        "        param.data, state = quantize(param.data)\n",
        "        states[name] = state\n",
        "    return model, states"
      ],
      "metadata": {
        "id": "gbPslkXbPae3"
      },
      "execution_count": null,
      "outputs": []
    },
    {
      "cell_type": "code",
      "source": [
        "quant_model, states = quantize_model(model)\n",
        "quant_model.get_memory_footprint()"
      ],
      "metadata": {
        "colab": {
          "base_uri": "https://localhost:8080/"
        },
        "id": "EemTHI4NPkyb",
        "outputId": "cb3ea4ad-ed6a-47ec-c0e1-b64d3841eaaa"
      },
      "execution_count": null,
      "outputs": [
        {
          "output_type": "execute_result",
          "data": {
            "text/plain": [
              "137022768"
            ]
          },
          "metadata": {},
          "execution_count": 174
        }
      ]
    },
    {
      "cell_type": "code",
      "source": [
        "def size_in_bytes(t):\n",
        "    return t.numel() * t.element_size()\n",
        "\n",
        "\n",
        "sum([\n",
        "    size_in_bytes(v[0]) + size_in_bytes(v[1])\n",
        "    for v in states.values()\n",
        "])"
      ],
      "metadata": {
        "colab": {
          "base_uri": "https://localhost:8080/"
        },
        "id": "SEye5T4ePnay",
        "outputId": "859ed4f1-9a5a-4905-832e-0b24efddf331"
      },
      "execution_count": null,
      "outputs": [
        {
          "output_type": "execute_result",
          "data": {
            "text/plain": [
              "1184"
            ]
          },
          "metadata": {},
          "execution_count": 175
        }
      ]
    },
    {
      "cell_type": "code",
      "source": [
        "def dequantize_model(model, states):\n",
        "    for name, param in model.named_parameters():\n",
        "        state = states[name]\n",
        "        param.data = dequantize(param.data, state)\n",
        "    return model"
      ],
      "metadata": {
        "id": "YldUmuWbPr_j"
      },
      "execution_count": null,
      "outputs": []
    },
    {
      "cell_type": "code",
      "source": [
        "dequant_model = dequantize_model(quant_model, states)\n",
        "dequant_model.get_memory_footprint()"
      ],
      "metadata": {
        "colab": {
          "base_uri": "https://localhost:8080/"
        },
        "id": "ny8NGKYMPvBr",
        "outputId": "73ec6e14-7eb4-46c7-9de2-5241f958ca96"
      },
      "execution_count": null,
      "outputs": [
        {
          "output_type": "execute_result",
          "data": {
            "text/plain": [
              "510342192"
            ]
          },
          "metadata": {},
          "execution_count": 177
        }
      ]
    },
    {
      "cell_type": "code",
      "source": [
        "response_expected = generate(\n",
        "    dequant_model,\n",
        "    tokenizer,\n",
        "    [(\"The quick brown fox jumped over the\", 10)]\n",
        ")[0]\n",
        "response_expected"
      ],
      "metadata": {
        "colab": {
          "base_uri": "https://localhost:8080/",
          "height": 35
        },
        "id": "USDGYZnzPxER",
        "outputId": "98055e44-931a-4ca8-9d2f-4679ace42470"
      },
      "execution_count": null,
      "outputs": [
        {
          "output_type": "execute_result",
          "data": {
            "text/plain": [
              "'The quick brown fox jumped over the fence.\\n\\nThe fox jumped over the fence'"
            ],
            "application/vnd.google.colaboratory.intrinsic+json": {
              "type": "string"
            }
          },
          "metadata": {},
          "execution_count": 178
        }
      ]
    },
    {
      "cell_type": "code",
      "source": [],
      "metadata": {
        "id": "k2TPEOTxPz7W"
      },
      "execution_count": null,
      "outputs": []
    },
    {
      "cell_type": "markdown",
      "source": [
        "# LORA"
      ],
      "metadata": {
        "id": "OlRhaa4qEcgZ"
      }
    },
    {
      "cell_type": "markdown",
      "source": [
        "### abstract"
      ],
      "metadata": {
        "id": "TvVYwh6NPQ1L"
      }
    },
    {
      "cell_type": "code",
      "source": [
        "import copy\n",
        "import matplotlib.pyplot as plt\n",
        "import numpy as np\n",
        "import random\n",
        "import time\n",
        "import torch\n",
        "import torch.nn.functional as F\n",
        "from tqdm import tqdm"
      ],
      "metadata": {
        "id": "O2FlYotUEfNi"
      },
      "execution_count": null,
      "outputs": []
    },
    {
      "cell_type": "code",
      "source": [
        "# set the seed so we get the same results from here on for each run\n",
        "torch.manual_seed(420)"
      ],
      "metadata": {
        "colab": {
          "base_uri": "https://localhost:8080/"
        },
        "id": "zJiGFgQhEk8y",
        "outputId": "e438b477-821f-4f1b-fad3-727c24587ff4"
      },
      "execution_count": null,
      "outputs": [
        {
          "output_type": "execute_result",
          "data": {
            "text/plain": [
              "<torch._C.Generator at 0x7e611cc8f0b0>"
            ]
          },
          "metadata": {},
          "execution_count": 62
        }
      ]
    },
    {
      "cell_type": "code",
      "source": [
        "class TestModel(torch.nn.Module):\n",
        "    def __init__(self, hidden_size):\n",
        "        super().__init__()\n",
        "        self.embedding = torch.nn.Embedding(10, hidden_size)\n",
        "        self.linear = torch.nn.Linear(hidden_size, hidden_size)\n",
        "        self.lm_head = torch.nn.Linear(hidden_size, 10)\n",
        "\n",
        "    def forward(self, input_ids):\n",
        "        x = self.embedding(input_ids)\n",
        "        x = self.linear(x)\n",
        "        x = self.lm_head(x)\n",
        "        return x"
      ],
      "metadata": {
        "id": "GRvDu15SEnHx"
      },
      "execution_count": null,
      "outputs": []
    },
    {
      "cell_type": "code",
      "source": [
        "hidden_size = 1024\n",
        "model = TestModel(hidden_size)\n",
        "# dummy inputs\n",
        "input_ids = torch.LongTensor([[0, 1, 2, 3, 4, 5, 6, 7]])"
      ],
      "metadata": {
        "id": "f0fuzPwUFCyh"
      },
      "execution_count": null,
      "outputs": []
    },
    {
      "cell_type": "code",
      "source": [
        "detokenizer = [\n",
        "    \"red\",\n",
        "    \"orange\",\n",
        "    \"yellow\",\n",
        "    \"green\",\n",
        "    \"blue\",\n",
        "    \"indigo\",\n",
        "    \"violet\",\n",
        "    \"magenta\",\n",
        "    \"marigold\",\n",
        "    \"chartreuse\",\n",
        "]"
      ],
      "metadata": {
        "id": "SUSCi3iLFFDB"
      },
      "execution_count": null,
      "outputs": []
    },
    {
      "cell_type": "code",
      "source": [
        "def generate_token(model, **kwargs):\n",
        "    with torch.no_grad():\n",
        "        logits = model(**kwargs)\n",
        "    last_logits = logits[:, -1, :]\n",
        "    next_token_ids = last_logits.argmax(dim=1)\n",
        "\n",
        "    return [detokenizer[token_id] for token_id in next_token_ids]"
      ],
      "metadata": {
        "id": "nSddSqb2ITaC"
      },
      "execution_count": null,
      "outputs": []
    },
    {
      "cell_type": "code",
      "source": [
        "# generate one token\n",
        "next_token = generate_token(model, input_ids=input_ids)[0]\n",
        "next_token"
      ],
      "metadata": {
        "colab": {
          "base_uri": "https://localhost:8080/",
          "height": 35
        },
        "id": "j2-hdnpbIZY_",
        "outputId": "fe9bd19d-9d95-4d78-d490-c47728cfcc3a"
      },
      "execution_count": null,
      "outputs": [
        {
          "output_type": "execute_result",
          "data": {
            "text/plain": [
              "'green'"
            ],
            "application/vnd.google.colaboratory.intrinsic+json": {
              "type": "string"
            }
          },
          "metadata": {},
          "execution_count": 67
        }
      ]
    },
    {
      "cell_type": "code",
      "source": [
        "X = torch.randn(1, 8, 1024)"
      ],
      "metadata": {
        "id": "UHHTfIdNIe3h"
      },
      "execution_count": null,
      "outputs": []
    },
    {
      "cell_type": "code",
      "source": [
        "# LoRA A and B tensors\n",
        "# A has shape (hidden_size, rank)\n",
        "# B has shape (rank, hidden_size)\n",
        "### Rank 2 decomposition of the original weight matrix\n",
        "\n",
        "lora_a = torch.randn(1024, 2)\n",
        "lora_b = torch.randn(2, 1024)"
      ],
      "metadata": {
        "id": "QW-sRBohIhBU"
      },
      "execution_count": null,
      "outputs": []
    },
    {
      "cell_type": "code",
      "source": [
        "W = model.linear.weight\n",
        "W.shape"
      ],
      "metadata": {
        "colab": {
          "base_uri": "https://localhost:8080/"
        },
        "id": "pDr1vNaZJ8HM",
        "outputId": "84e8ce0a-b123-42e5-a63d-220ad4b3aea7"
      },
      "execution_count": null,
      "outputs": [
        {
          "output_type": "execute_result",
          "data": {
            "text/plain": [
              "torch.Size([1024, 1024])"
            ]
          },
          "metadata": {},
          "execution_count": 70
        }
      ]
    },
    {
      "cell_type": "code",
      "source": [
        "W2 = lora_a @ lora_b\n",
        "W2.shape"
      ],
      "metadata": {
        "colab": {
          "base_uri": "https://localhost:8080/"
        },
        "id": "0IELVW42J-Pb",
        "outputId": "98ac9b3d-f560-48ba-c865-4e59d699fb07"
      },
      "execution_count": null,
      "outputs": [
        {
          "output_type": "execute_result",
          "data": {
            "text/plain": [
              "torch.Size([1024, 1024])"
            ]
          },
          "metadata": {},
          "execution_count": 71
        }
      ]
    },
    {
      "cell_type": "code",
      "source": [
        "# Compare number of elements of A and B with number of elements of W\n",
        "# W here has shape (hidden_size, hidden_size)\n",
        "lora_numel = lora_a.numel() + lora_b.numel()\n",
        "base_numel = W.numel()\n",
        "print(\"|A+B| / |W|:\", lora_numel / base_numel)"
      ],
      "metadata": {
        "colab": {
          "base_uri": "https://localhost:8080/"
        },
        "id": "hdasuyCxKEvN",
        "outputId": "eb94c4c2-9d1e-4773-cd69-944fcbbafa3d"
      },
      "execution_count": null,
      "outputs": [
        {
          "output_type": "stream",
          "name": "stdout",
          "text": [
            "|A+B| / |W|: 0.00390625\n"
          ]
        }
      ]
    },
    {
      "cell_type": "code",
      "source": [
        "base_output = model.linear(X)\n",
        "\n",
        "lora_output = X @ lora_a @ lora_b\n",
        "\n",
        "total_output = base_output + lora_output\n",
        "\n",
        "total_output.shape"
      ],
      "metadata": {
        "colab": {
          "base_uri": "https://localhost:8080/"
        },
        "id": "7VMIzlI2KPWs",
        "outputId": "d186af94-5f88-451d-9834-5a7852093285"
      },
      "execution_count": null,
      "outputs": [
        {
          "output_type": "execute_result",
          "data": {
            "text/plain": [
              "torch.Size([1, 8, 1024])"
            ]
          },
          "metadata": {},
          "execution_count": 73
        }
      ]
    },
    {
      "cell_type": "code",
      "source": [
        "class LoraLayer(torch.nn.Module):\n",
        "    def __init__(self, base_layer, r):\n",
        "        super().__init__()\n",
        "        self.base_layer = base_layer\n",
        "\n",
        "        d_in, d_out = self.base_layer.weight.shape\n",
        "        self.lora_a = torch.randn(d_in, r)\n",
        "        self.lora_b = torch.randn(r, d_out)\n",
        "\n",
        "    def forward(self, x):\n",
        "        y1 = self.base_layer(x)\n",
        "        y2 = x @ self.lora_a @ self.lora_b\n",
        "        return y1 + y2"
      ],
      "metadata": {
        "id": "LnPvBaaYKxhI"
      },
      "execution_count": null,
      "outputs": []
    },
    {
      "cell_type": "code",
      "source": [
        "# wrap the linear layer of our toy model, use rank 2\n",
        "lora_layer = LoraLayer(model.linear, 2)\n",
        "lora_layer(X).shape"
      ],
      "metadata": {
        "colab": {
          "base_uri": "https://localhost:8080/"
        },
        "id": "B7MP4AciKzg0",
        "outputId": "8f1ff02b-8fb4-4902-d114-da7c3ec86dd9"
      },
      "execution_count": null,
      "outputs": [
        {
          "output_type": "execute_result",
          "data": {
            "text/plain": [
              "torch.Size([1, 8, 1024])"
            ]
          },
          "metadata": {},
          "execution_count": 75
        }
      ]
    },
    {
      "cell_type": "code",
      "source": [
        "model.linear = lora_layer\n",
        "model"
      ],
      "metadata": {
        "colab": {
          "base_uri": "https://localhost:8080/"
        },
        "id": "fjulMfexK2kW",
        "outputId": "c27a1752-c32a-4e4b-d65d-93a3f310e2cd"
      },
      "execution_count": null,
      "outputs": [
        {
          "output_type": "execute_result",
          "data": {
            "text/plain": [
              "TestModel(\n",
              "  (embedding): Embedding(10, 1024)\n",
              "  (linear): LoraLayer(\n",
              "    (base_layer): Linear(in_features=1024, out_features=1024, bias=True)\n",
              "  )\n",
              "  (lm_head): Linear(in_features=1024, out_features=10, bias=True)\n",
              ")"
            ]
          },
          "metadata": {},
          "execution_count": 76
        }
      ]
    },
    {
      "cell_type": "code",
      "source": [
        "next_token = generate_token(model, input_ids=input_ids)\n",
        "next_token[0]"
      ],
      "metadata": {
        "colab": {
          "base_uri": "https://localhost:8080/",
          "height": 35
        },
        "id": "EoNtBSxnK6X1",
        "outputId": "c6cd5d44-e554-40b4-fbc9-13818edf2531"
      },
      "execution_count": null,
      "outputs": [
        {
          "output_type": "execute_result",
          "data": {
            "text/plain": [
              "'chartreuse'"
            ],
            "application/vnd.google.colaboratory.intrinsic+json": {
              "type": "string"
            }
          },
          "metadata": {},
          "execution_count": 77
        }
      ]
    },
    {
      "cell_type": "markdown",
      "source": [
        "### Multi-lora Inference"
      ],
      "metadata": {
        "id": "b-EE21aRPTUS"
      }
    },
    {
      "cell_type": "code",
      "source": [
        "import copy\n",
        "import matplotlib.pyplot as plt\n",
        "import numpy as np\n",
        "import random\n",
        "import time\n",
        "import torch\n",
        "import torch.nn.functional as F\n",
        "from tqdm import tqdm\n",
        "\n",
        "torch.manual_seed(42)"
      ],
      "metadata": {
        "colab": {
          "base_uri": "https://localhost:8080/"
        },
        "id": "CE3XBM03K-Nh",
        "outputId": "3e4f75ec-28c7-4265-928c-0343f64b0c6c"
      },
      "execution_count": null,
      "outputs": [
        {
          "output_type": "execute_result",
          "data": {
            "text/plain": [
              "<torch._C.Generator at 0x7e611cc8f0b0>"
            ]
          },
          "metadata": {},
          "execution_count": 98
        }
      ]
    },
    {
      "cell_type": "code",
      "source": [
        "class AbstractMultiLoraModel(torch.nn.Module):\n",
        "    def __init__(self):\n",
        "        super().__init__()\n",
        "\n",
        "        self.embedding = torch.nn.Embedding(10, 10)\n",
        "        self.linear = torch.nn.Linear(10, 10)\n",
        "        self.lm_head = torch.nn.Linear(10, 10)\n",
        "\n",
        "    def linear_lora(\n",
        "        self,\n",
        "        x: torch.Tensor,\n",
        "        loras_a: torch.Tensor,\n",
        "        loras_b: torch.Tensor,\n",
        "        lora_indices: torch.LongTensor,\n",
        "    ) -> torch.Tensor:\n",
        "        raise NotImplementedError()\n",
        "\n",
        "    def forward(self, input_ids, loras_a, loras_b, lora_indices):\n",
        "        x = self.embedding(input_ids)\n",
        "        x = self.linear_lora(x, loras_a, loras_b, lora_indices)\n",
        "        x = self.lm_head(x)\n",
        "        return x"
      ],
      "metadata": {
        "id": "yZDO0GsrQNun"
      },
      "execution_count": null,
      "outputs": []
    },
    {
      "cell_type": "code",
      "source": [
        "class LoopMultiLoraModel(AbstractMultiLoraModel):\n",
        "    def linear_lora(\n",
        "        self,\n",
        "        x: torch.Tensor,\n",
        "        loras_a: torch.Tensor,\n",
        "        loras_b: torch.Tensor,\n",
        "        lora_indices: torch.LongTensor,\n",
        "    ) -> torch.Tensor:\n",
        "        y = self.linear(x)\n",
        "        for batch_idx, lora_idx in enumerate(lora_indices.numpy()):\n",
        "            lora_a = loras_a[lora_idx]\n",
        "            lora_b = loras_b[lora_idx]\n",
        "            y[batch_idx] += x[batch_idx] @ lora_a @ lora_b\n",
        "        return y"
      ],
      "metadata": {
        "id": "3fDzXNvVQP8b"
      },
      "execution_count": null,
      "outputs": []
    },
    {
      "cell_type": "code",
      "source": [
        "# toy example of a detokenizer. The vocabular only consists of 10 words (different colors)\n",
        "detokenizer = [\n",
        "    \"red\",\n",
        "    \"orange\",\n",
        "    \"yellow\",\n",
        "    \"green\",\n",
        "    \"blue\",\n",
        "    \"indigo\",\n",
        "    \"violet\",\n",
        "    \"magenta\",\n",
        "    \"marigold\",\n",
        "    \"chartreuse\",\n",
        "]\n",
        "\n",
        "# dummy inputs\n",
        "input_ids = torch.LongTensor([[0, 1, 2, 3, 4, 5, 6, 7]])"
      ],
      "metadata": {
        "id": "V6uF_5HPQSNt"
      },
      "execution_count": null,
      "outputs": []
    },
    {
      "cell_type": "code",
      "source": [
        "def generate_token(model, **kwargs):\n",
        "    with torch.no_grad():\n",
        "        logits = model(**kwargs)\n",
        "    last_logits = logits[:, -1, :]\n",
        "    next_token_ids = last_logits.argmax(dim=1)\n",
        "\n",
        "    return [detokenizer[token_id] for token_id in next_token_ids]"
      ],
      "metadata": {
        "id": "NJdpdjMtQU4_"
      },
      "execution_count": null,
      "outputs": []
    },
    {
      "cell_type": "code",
      "source": [
        "model = LoopMultiLoraModel()"
      ],
      "metadata": {
        "id": "DQenGEbEQWqd"
      },
      "execution_count": null,
      "outputs": []
    },
    {
      "cell_type": "code",
      "source": [
        "# constants\n",
        "bs = 1\n",
        "num_loras = 64\n",
        "h = 10\n",
        "r = 2\n",
        "\n",
        "# create contiguous blocks for 64 random LoRA weights\n",
        "loras_a = torch.randn(num_loras, h, r)\n",
        "loras_b = torch.randn(num_loras, r, h)\n",
        "\n",
        "for i in range(10):\n",
        "    # randomize the LoRAs each iteration\n",
        "    lora_indices = torch.randint(num_loras, (bs,), dtype=torch.long)\n",
        "    next_token = generate_token(\n",
        "        model,\n",
        "        input_ids=input_ids,\n",
        "        loras_a=loras_a,\n",
        "        loras_b=loras_b,\n",
        "        lora_indices=lora_indices,\n",
        "    )\n",
        "    print(next_token)"
      ],
      "metadata": {
        "colab": {
          "base_uri": "https://localhost:8080/"
        },
        "id": "WGyYTTMzQgQp",
        "outputId": "485e8240-9f42-4ece-a6de-39372bde93db"
      },
      "execution_count": null,
      "outputs": [
        {
          "output_type": "stream",
          "name": "stdout",
          "text": [
            "['orange']\n",
            "['red']\n",
            "['chartreuse']\n",
            "['yellow']\n",
            "['marigold']\n",
            "['yellow']\n",
            "['red']\n",
            "['orange']\n",
            "['violet']\n",
            "['red']\n"
          ]
        }
      ]
    },
    {
      "cell_type": "code",
      "source": [
        "# constants\n",
        "seq_len = 8\n",
        "vocab_size = 10\n",
        "nsamples = 500\n",
        "max_batch_size = 64\n",
        "\n",
        "\n",
        "def benchmark(model):\n",
        "    avg_latencies = []\n",
        "    for bs in range(1, max_batch_size + 1):\n",
        "        latencies = []\n",
        "        for _ in range(nsamples):\n",
        "            # randomize the inputs and LoRA indices\n",
        "            input_ids = torch.randint(\n",
        "                vocab_size, (bs, seq_len), dtype=torch.long)\n",
        "            lora_indices = torch.randint(\n",
        "                num_loras, (bs,), dtype=torch.long)\n",
        "\n",
        "            # measure the end-to-end latency for\n",
        "            # generating a single token\n",
        "            t0 = time.time()\n",
        "            next_token = generate_token(\n",
        "                model,\n",
        "                input_ids=input_ids,\n",
        "                loras_a=loras_a,\n",
        "                loras_b=loras_b,\n",
        "                lora_indices=lora_indices,\n",
        "            )\n",
        "            latencies.append(time.time() - t0)\n",
        "\n",
        "        # average the latency across all the samples\n",
        "        latency_s = sum(latencies) / len(latencies)\n",
        "        avg_latencies.append(latency_s)\n",
        "        print(bs, latency_s)\n",
        "    return avg_latencies"
      ],
      "metadata": {
        "id": "x0NMqEpmQh4T"
      },
      "execution_count": null,
      "outputs": []
    },
    {
      "cell_type": "code",
      "source": [
        "avg_latencies_loop = benchmark(model)"
      ],
      "metadata": {
        "colab": {
          "base_uri": "https://localhost:8080/"
        },
        "id": "AueCD1lSQkGj",
        "outputId": "865925d0-9136-4638-cfa0-c88d4bee790a"
      },
      "execution_count": null,
      "outputs": [
        {
          "output_type": "stream",
          "name": "stdout",
          "text": [
            "1 0.00021678686141967773\n",
            "2 0.00024003410339355468\n",
            "3 0.0002725133895874023\n",
            "4 0.00042358064651489257\n",
            "5 0.00031502485275268553\n",
            "6 0.0004191336631774902\n",
            "7 0.0003922147750854492\n",
            "8 0.0004370250701904297\n",
            "9 0.00047461605072021484\n",
            "10 0.0005261802673339844\n",
            "11 0.0005296783447265625\n",
            "12 0.0005620980262756348\n",
            "13 0.0006085147857666015\n",
            "14 0.0006518445014953614\n",
            "15 0.0006629586219787598\n",
            "16 0.0006757950782775878\n",
            "17 0.0007572860717773438\n",
            "18 0.0007540459632873535\n",
            "19 0.000802126407623291\n",
            "20 0.0010482187271118164\n",
            "21 0.001225450038909912\n",
            "22 0.0012458662986755372\n",
            "23 0.0013733744621276856\n",
            "24 0.00150626802444458\n",
            "25 0.0009633951187133789\n",
            "26 0.0010240511894226074\n",
            "27 0.001011772632598877\n",
            "28 0.001072767734527588\n",
            "29 0.001071216583251953\n",
            "30 0.001135688304901123\n",
            "31 0.0011258220672607422\n",
            "32 0.0011971354484558105\n",
            "33 0.0012385964393615723\n",
            "34 0.0012316365242004395\n",
            "35 0.0012910032272338866\n",
            "36 0.00133705472946167\n",
            "37 0.0013331913948059083\n",
            "38 0.0013782801628112794\n",
            "39 0.0014170465469360352\n",
            "40 0.0014165501594543457\n",
            "41 0.0020737695693969728\n",
            "42 0.002139720439910889\n",
            "43 0.002302450656890869\n",
            "44 0.0015275120735168458\n",
            "45 0.001599616527557373\n",
            "46 0.0016680235862731934\n",
            "47 0.0016571807861328126\n",
            "48 0.001711942195892334\n",
            "49 0.0017047410011291504\n",
            "50 0.0017515535354614257\n",
            "51 0.001765779495239258\n",
            "52 0.0018207812309265136\n",
            "53 0.001836122989654541\n",
            "54 0.001893545627593994\n",
            "55 0.002651634216308594\n",
            "56 0.002879542827606201\n",
            "57 0.00228790283203125\n",
            "58 0.0020102558135986328\n",
            "59 0.0020181946754455568\n",
            "60 0.0020492796897888183\n",
            "61 0.0020972166061401366\n",
            "62 0.0021116447448730467\n",
            "63 0.0021460118293762207\n",
            "64 0.0021908826828002928\n"
          ]
        }
      ]
    },
    {
      "cell_type": "code",
      "source": [
        "x = list(range(1, max_batch_size + 1))\n",
        "plt.plot(x, avg_latencies_loop, label=\"loop\")\n",
        "\n",
        "plt.xlabel('Batch Size')\n",
        "plt.ylabel('Avg Latency (s)')\n",
        "plt.title('Multi-LoRA latency w.r.t. batch size')\n",
        "plt.legend()\n",
        "\n",
        "plt.show()"
      ],
      "metadata": {
        "colab": {
          "base_uri": "https://localhost:8080/",
          "height": 472
        },
        "id": "Lo5qnv-YQnig",
        "outputId": "6021ff2a-edc8-4af7-e16e-7ef6784e5a06"
      },
      "execution_count": null,
      "outputs": [
        {
          "output_type": "display_data",
          "data": {
            "text/plain": [
              "<Figure size 640x480 with 1 Axes>"
            ],
            "image/png": "[encoded data removed]"
          },
          "metadata": {}
        }
      ]
    },
    {
      "cell_type": "code",
      "source": [
        "class GatheredMultiLoraModel(AbstractMultiLoraModel):\n",
        "    def linear_lora(\n",
        "        self,\n",
        "        x: torch.Tensor,                 # (batch_size, seq_len, in_features)\n",
        "        loras_a: torch.Tensor,           # (num_loras, in_features, lora_rank)\n",
        "        loras_b: torch.Tensor,           # (num_loras, lora_rank, out_features)\n",
        "        lora_indices: torch.LongTensor,  # (batch_size,)\n",
        "    ) -> torch.Tensor:\n",
        "        y = self.linear(x)\n",
        "\n",
        "        # gather the LoRA weights into a new tensor and apply\n",
        "        lora_a = torch.index_select(loras_a, 0, lora_indices) # (batch_size, in_features, lora_rank)\n",
        "        lora_b = torch.index_select(loras_b, 0, lora_indices) # (batch_size, lora_rank, out_features)\n",
        "        y += x @ lora_a @ lora_b\n",
        "        return y"
      ],
      "metadata": {
        "id": "J70o6n8LQpve"
      },
      "execution_count": null,
      "outputs": []
    },
    {
      "cell_type": "code",
      "source": [
        "model = GatheredMultiLoraModel()\n",
        "avg_latencies_gathered = benchmark(model)"
      ],
      "metadata": {
        "colab": {
          "base_uri": "https://localhost:8080/"
        },
        "id": "HEoMCK54QyLB",
        "outputId": "48de9c0f-a584-42a7-fe5f-5a8fe3453165"
      },
      "execution_count": null,
      "outputs": [
        {
          "output_type": "stream",
          "name": "stdout",
          "text": [
            "1 0.00020810461044311524\n",
            "2 0.00018020963668823243\n",
            "3 0.0001937398910522461\n",
            "4 0.0001873788833618164\n",
            "5 0.000210357666015625\n",
            "6 0.0002004714012145996\n",
            "7 0.00020259904861450194\n",
            "8 0.00021492528915405273\n",
            "9 0.000256688117980957\n",
            "10 0.00020877933502197265\n",
            "11 0.00032984542846679687\n",
            "12 0.0003476142883300781\n",
            "13 0.00037488889694213865\n",
            "14 0.0003422675132751465\n",
            "15 0.00040418195724487303\n",
            "16 0.00033667469024658203\n",
            "17 0.00035413646697998047\n",
            "18 0.0003322858810424805\n",
            "19 0.00034740877151489256\n",
            "20 0.000451387882232666\n",
            "21 0.00041964197158813476\n",
            "22 0.00046405935287475585\n",
            "23 0.0004584336280822754\n",
            "24 0.0004904546737670898\n",
            "25 0.00045606231689453126\n",
            "26 0.00027251672744750977\n",
            "27 0.00028014373779296876\n",
            "28 0.000265775203704834\n",
            "29 0.00030847120285034177\n",
            "30 0.00027746200561523437\n",
            "31 0.00031378650665283203\n",
            "32 0.00028711843490600585\n",
            "33 0.000303408145904541\n",
            "34 0.0003040909767150879\n",
            "35 0.00031937408447265623\n",
            "36 0.000294189453125\n",
            "37 0.0003358278274536133\n",
            "38 0.00030279254913330076\n",
            "39 0.00032738208770751956\n",
            "40 0.0003182730674743652\n",
            "41 0.0003592534065246582\n",
            "42 0.00031823015213012693\n",
            "43 0.0003672900199890137\n",
            "44 0.0003439593315124512\n",
            "45 0.0003623485565185547\n",
            "46 0.0003465785980224609\n",
            "47 0.0003609423637390137\n",
            "48 0.00036225986480712893\n",
            "49 0.0003726396560668945\n",
            "50 0.00035032224655151366\n",
            "51 0.0003934831619262695\n",
            "52 0.00038270378112792967\n",
            "53 0.00043045568466186523\n",
            "54 0.00043952131271362307\n",
            "55 0.0005452098846435546\n",
            "56 0.0006024994850158691\n",
            "57 0.0006358370780944824\n",
            "58 0.0007430534362792969\n",
            "59 0.0006192026138305664\n",
            "60 0.0005890307426452637\n",
            "61 0.0007025461196899414\n",
            "62 0.00045951604843139646\n",
            "63 0.00046295595169067383\n",
            "64 0.00042727184295654296\n"
          ]
        }
      ]
    },
    {
      "cell_type": "code",
      "source": [
        "x = list(range(1, max_batch_size + 1))\n",
        "plt.plot(x, avg_latencies_loop, label=\"loop\")\n",
        "plt.plot(x, avg_latencies_gathered, label=\"gathered\")\n",
        "\n",
        "plt.xlabel('Batch Size')\n",
        "plt.ylabel('Avg Latency (s)')\n",
        "plt.title('Multi-LoRA latency w.r.t. batch size')\n",
        "plt.legend()\n",
        "\n",
        "plt.show()\n",
        "\n",
        "### using vectorization, make the multi-lora fine-tuning faster w.r.t the batch size"
      ],
      "metadata": {
        "colab": {
          "base_uri": "https://localhost:8080/",
          "height": 472
        },
        "id": "b1LPsMk3Q6VT",
        "outputId": "c9b97584-5383-46b0-c480-880d7f0be738"
      },
      "execution_count": null,
      "outputs": [
        {
          "output_type": "display_data",
          "data": {
            "text/plain": [
              "<Figure size 640x480 with 1 Axes>"
            ],
            "image/png": "[encoded data removed]"
          },
          "metadata": {}
        }
      ]
    }
  ]
}