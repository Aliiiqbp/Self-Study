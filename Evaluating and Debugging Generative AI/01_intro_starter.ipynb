{
 "cells": [
  {
   "cell_type": "markdown",
   "id": "dbfb9335",
   "metadata": {},
   "source": [
    "# Introduction to W&B\n",
    "\n",
    "<!--- @wandbcode{dlai_01} -->\n",
    "\n",
    "We will add `wandb` to sprite classification model training, so that we can track and visualize important metrics, gain insights into our model's behavior and make informed decisions for model improvements. We will also see how to compare and analyze different experiments, collaborate with team members, and reproduce results effectively."
   ]
  },
  {
   "cell_type": "code",
   "outputs": [
    {
     "name": "stdout",
     "output_type": "stream",
     "text": [
      "Requirement already satisfied: wandb in /Library/Frameworks/Python.framework/Versions/3.12/lib/python3.12/site-packages (0.19.4)\r\n",
      "Requirement already satisfied: click!=8.0.0,>=7.1 in /Library/Frameworks/Python.framework/Versions/3.12/lib/python3.12/site-packages (from wandb) (8.1.7)\r\n",
      "Requirement already satisfied: docker-pycreds>=0.4.0 in /Library/Frameworks/Python.framework/Versions/3.12/lib/python3.12/site-packages (from wandb) (0.4.0)\r\n",
      "Requirement already satisfied: gitpython!=3.1.29,>=1.0.0 in /Library/Frameworks/Python.framework/Versions/3.12/lib/python3.12/site-packages (from wandb) (3.1.44)\r\n",
      "Requirement already satisfied: platformdirs in /Library/Frameworks/Python.framework/Versions/3.12/lib/python3.12/site-packages (from wandb) (4.3.6)\r\n",
      "Requirement already satisfied: protobuf!=4.21.0,!=5.28.0,<6,>=3.19.0 in /Library/Frameworks/Python.framework/Versions/3.12/lib/python3.12/site-packages (from wandb) (4.25.5)\r\n",
      "Requirement already satisfied: psutil>=5.0.0 in /Library/Frameworks/Python.framework/Versions/3.12/lib/python3.12/site-packages (from wandb) (6.0.0)\r\n",
      "Requirement already satisfied: pydantic<3,>=2.6 in /Library/Frameworks/Python.framework/Versions/3.12/lib/python3.12/site-packages (from wandb) (2.9.2)\r\n",
      "Requirement already satisfied: pyyaml in /Library/Frameworks/Python.framework/Versions/3.12/lib/python3.12/site-packages (from wandb) (6.0.1)\r\n",
      "Requirement already satisfied: requests<3,>=2.0.0 in /Library/Frameworks/Python.framework/Versions/3.12/lib/python3.12/site-packages (from wandb) (2.32.3)\r\n",
      "Requirement already satisfied: sentry-sdk>=2.0.0 in /Library/Frameworks/Python.framework/Versions/3.12/lib/python3.12/site-packages (from wandb) (2.20.0)\r\n",
      "Requirement already satisfied: setproctitle in /Library/Frameworks/Python.framework/Versions/3.12/lib/python3.12/site-packages (from wandb) (1.3.4)\r\n",
      "Requirement already satisfied: setuptools in /Library/Frameworks/Python.framework/Versions/3.12/lib/python3.12/site-packages (from wandb) (72.1.0)\r\n",
      "Requirement already satisfied: six>=1.4.0 in /Library/Frameworks/Python.framework/Versions/3.12/lib/python3.12/site-packages (from docker-pycreds>=0.4.0->wandb) (1.16.0)\r\n",
      "Requirement already satisfied: gitdb<5,>=4.0.1 in /Library/Frameworks/Python.framework/Versions/3.12/lib/python3.12/site-packages (from gitpython!=3.1.29,>=1.0.0->wandb) (4.0.12)\r\n",
      "Requirement already satisfied: annotated-types>=0.6.0 in /Library/Frameworks/Python.framework/Versions/3.12/lib/python3.12/site-packages (from pydantic<3,>=2.6->wandb) (0.7.0)\r\n",
      "Requirement already satisfied: pydantic-core==2.23.4 in /Library/Frameworks/Python.framework/Versions/3.12/lib/python3.12/site-packages (from pydantic<3,>=2.6->wandb) (2.23.4)\r\n",
      "Requirement already satisfied: typing-extensions>=4.6.1 in /Library/Frameworks/Python.framework/Versions/3.12/lib/python3.12/site-packages (from pydantic<3,>=2.6->wandb) (4.12.2)\r\n",
      "Requirement already satisfied: charset-normalizer<4,>=2 in /Library/Frameworks/Python.framework/Versions/3.12/lib/python3.12/site-packages (from requests<3,>=2.0.0->wandb) (3.3.2)\r\n",
      "Requirement already satisfied: idna<4,>=2.5 in /Library/Frameworks/Python.framework/Versions/3.12/lib/python3.12/site-packages (from requests<3,>=2.0.0->wandb) (3.7)\r\n",
      "Requirement already satisfied: urllib3<3,>=1.21.1 in /Library/Frameworks/Python.framework/Versions/3.12/lib/python3.12/site-packages (from requests<3,>=2.0.0->wandb) (2.2.2)\r\n",
      "Requirement already satisfied: certifi>=2017.4.17 in /Library/Frameworks/Python.framework/Versions/3.12/lib/python3.12/site-packages (from requests<3,>=2.0.0->wandb) (2024.7.4)\r\n",
      "Requirement already satisfied: smmap<6,>=3.0.1 in /Library/Frameworks/Python.framework/Versions/3.12/lib/python3.12/site-packages (from gitdb<5,>=4.0.1->gitpython!=3.1.29,>=1.0.0->wandb) (5.0.2)\r\n"
     ]
    }
   ],
   "source": [
    "!pip install wandb"
   ],
   "metadata": {
    "collapsed": false,
    "ExecuteTime": {
     "end_time": "2025-01-26T23:37:12.026719Z",
     "start_time": "2025-01-26T23:37:11.455149Z"
    }
   },
   "id": "688b14608c087485",
   "execution_count": 1
  },
  {
   "cell_type": "code",
   "outputs": [],
   "source": [
    "import math\n",
    "from pathlib import Path\n",
    "from types import SimpleNamespace\n",
    "from tqdm.auto import tqdm\n",
    "import torch\n",
    "import torch.nn as nn\n",
    "import torch.nn.functional as F\n",
    "from torch.optim import Adam\n",
    "from utilities import get_dataloaders\n",
    "\n",
    "import wandb"
   ],
   "metadata": {
    "collapsed": false,
    "ExecuteTime": {
     "end_time": "2025-01-26T23:37:15.784544Z",
     "start_time": "2025-01-26T23:37:13.808065Z"
    }
   },
   "id": "3305bfb53b589822",
   "execution_count": 2
  },
  {
   "cell_type": "markdown",
   "source": [
    "Generally, using wandb needs 6 main steps:\n",
    "\n",
    "1. import wandb\n",
    "2. config = {'learning_rate': 0.001, ...}\n",
    "3. wandb.init(project='gpt2', config=config)\n",
    "4. TRAIN MODEL HERE\n",
    "5. wandb.log({'loss': loss})\n",
    "6. wandb.finish()"
   ],
   "metadata": {
    "collapsed": false
   },
   "id": "bfc3d5e47e2161ce"
  },
  {
   "cell_type": "markdown",
   "id": "2e0bfcc9",
   "metadata": {},
   "source": [
    "### Sprite classification\n",
    "\n",
    "We will build a simple model to classify sprites. You can see some examples of sprites and corresponding classes in the image below.\n",
    "\n",
    "<img src=\"sprite_sample.png\" alt=\"Alt Text\" width=\"700\"/>"
   ]
  },
  {
   "cell_type": "code",
   "execution_count": 2,
   "id": "d51a9f7f",
   "metadata": {
    "height": 319,
    "ExecuteTime": {
     "end_time": "2025-01-26T23:11:03.357285Z",
     "start_time": "2025-01-26T23:11:03.351662Z"
    }
   },
   "outputs": [],
   "source": [
    "INPUT_SIZE = 3 * 16 * 16\n",
    "OUTPUT_SIZE = 5\n",
    "HIDDEN_SIZE = 256\n",
    "NUM_WORKERS = 2\n",
    "CLASSES = [\"hero\", \"non-hero\", \"food\", \"spell\", \"side-facing\"]\n",
    "DATA_DIR = Path('./data/')\n",
    "DEVICE = torch.device(\"cuda\" if torch.cuda.is_available()  else \"cpu\")\n",
    "\n",
    "def get_model(dropout):\n",
    "    \"Simple MLP with Dropout\"\n",
    "    return nn.Sequential(\n",
    "        nn.Flatten(),\n",
    "        nn.Linear(INPUT_SIZE, HIDDEN_SIZE),\n",
    "        nn.BatchNorm1d(HIDDEN_SIZE),\n",
    "        nn.ReLU(),\n",
    "        nn.Dropout(dropout),\n",
    "        nn.Linear(HIDDEN_SIZE, OUTPUT_SIZE)\n",
    "    ).to(DEVICE)"
   ]
  },
  {
   "cell_type": "code",
   "execution_count": 3,
   "id": "f33f739c-d7ef-4954-ae87-d5bdd6bf25ee",
   "metadata": {
    "height": 166,
    "ExecuteTime": {
     "end_time": "2025-01-26T23:11:04.067946Z",
     "start_time": "2025-01-26T23:11:04.064520Z"
    }
   },
   "outputs": [],
   "source": [
    "# Let's define a config object to store our hyperparameters\n",
    "config = SimpleNamespace(\n",
    "    epochs = 2,\n",
    "    batch_size = 128,\n",
    "    lr = 1e-5,\n",
    "    dropout = 0.5,\n",
    "    slice_size = 10_000,\n",
    "    valid_pct = 0.2,\n",
    ")"
   ]
  },
  {
   "cell_type": "code",
   "execution_count": 4,
   "id": "e5492ebb-2dfa-44ce-af6c-24655e45a2ed",
   "metadata": {
    "height": 948,
    "ExecuteTime": {
     "end_time": "2025-01-26T23:11:04.669512Z",
     "start_time": "2025-01-26T23:11:04.665944Z"
    }
   },
   "outputs": [],
   "source": [
    "def train_model(config):\n",
    "    \"Train a model with a given config\"\n",
    "    \n",
    "    ##### initialize wandb in the training procedure\n",
    "    ##### set the project name, and also pass the config\n",
    "    wandb.init(\n",
    "        project=\"dlai_intro\",\n",
    "        config=config,\n",
    "    )\n",
    "\n",
    "    # Get the data\n",
    "    train_dl, valid_dl = get_dataloaders(DATA_DIR, \n",
    "                                         config.batch_size, \n",
    "                                         config.slice_size, \n",
    "                                         config.valid_pct)\n",
    "    n_steps_per_epoch = math.ceil(len(train_dl.dataset) / config.batch_size)\n",
    "\n",
    "    # A simple MLP model\n",
    "    model = get_model(config.dropout)\n",
    "\n",
    "    # Make the loss and optimizer\n",
    "    loss_func = nn.CrossEntropyLoss()\n",
    "    optimizer = Adam(model.parameters(), lr=config.lr)\n",
    "\n",
    "    example_ct = 0\n",
    "\n",
    "    for epoch in tqdm(range(config.epochs), total=config.epochs):\n",
    "        model.train()\n",
    "\n",
    "        for step, (images, labels) in enumerate(train_dl):\n",
    "            images, labels = images.to(DEVICE), labels.to(DEVICE)\n",
    "\n",
    "            outputs = model(images)\n",
    "            train_loss = loss_func(outputs, labels)\n",
    "            optimizer.zero_grad()\n",
    "            train_loss.backward()\n",
    "            optimizer.step()\n",
    "\n",
    "            example_ct += len(images)\n",
    "            metrics = {\n",
    "                \"train/train_loss\": train_loss,\n",
    "                \"train/epoch\": epoch + 1,\n",
    "                \"train/example_ct\": example_ct\n",
    "            }\n",
    "            ##### after computing the desired metrics, log them using the code below\n",
    "            wandb.log(metrics)\n",
    "            \n",
    "        # Compute validation metrics, log images on last epoch\n",
    "        val_loss, accuracy = validate_model(model, valid_dl, loss_func)\n",
    "        # Compute train and validation metrics\n",
    "        val_metrics = {\n",
    "            \"val/val_loss\": val_loss,\n",
    "            \"val/val_accuracy\": accuracy\n",
    "        }\n",
    "        ##### also compute the metrics at each validation step using .log\n",
    "        wandb.log(val_metrics)\n",
    "    \n",
    "    ##### explicitly finish the wandb session to make sure tracking the right metrics/logs\n",
    "    wandb.finish()\n"
   ]
  },
  {
   "cell_type": "code",
   "execution_count": 5,
   "id": "8401cf96",
   "metadata": {
    "height": 353,
    "ExecuteTime": {
     "end_time": "2025-01-26T23:11:05.220470Z",
     "start_time": "2025-01-26T23:11:05.218234Z"
    }
   },
   "outputs": [],
   "source": [
    "def validate_model(model, valid_dl, loss_func):\n",
    "    \"Compute the performance of the model on the validation dataset\"\n",
    "    model.eval()\n",
    "    val_loss = 0.0\n",
    "    correct = 0\n",
    "\n",
    "    with torch.inference_mode():\n",
    "        for i, (images, labels) in enumerate(valid_dl):\n",
    "            images, labels = images.to(DEVICE), labels.to(DEVICE)\n",
    "\n",
    "            # Forward pass\n",
    "            outputs = model(images)\n",
    "            val_loss += loss_func(outputs, labels) * labels.size(0)\n",
    "\n",
    "            # Compute accuracy and accumulate\n",
    "            _, predicted = torch.max(outputs.data, 1)\n",
    "            correct += (predicted == labels).sum().item()\n",
    "            \n",
    "    return val_loss / len(valid_dl.dataset), correct / len(valid_dl.dataset)\n"
   ]
  },
  {
   "cell_type": "markdown",
   "id": "c4cac7d2",
   "metadata": {},
   "source": [
    "### W&B account\n",
    "The next cell will log you into the Weights and Biases site anonymously, that is without a unique login. You can also sign up for a free account if you wish to save your work, but that is not needed to finish the course."
   ]
  },
  {
   "cell_type": "code",
   "outputs": [
    {
     "name": "stderr",
     "output_type": "stream",
     "text": [
      "\u001B[34m\u001B[1mwandb\u001B[0m: \u001B[33mWARNING\u001B[0m If you're specifying your api key in code, ensure this code is not shared publicly.\n",
      "\u001B[34m\u001B[1mwandb\u001B[0m: \u001B[33mWARNING\u001B[0m Consider setting the WANDB_API_KEY environment variable, or running `wandb login` from the command line.\n",
      "\u001B[34m\u001B[1mwandb\u001B[0m: Appending key for api.wandb.ai to your netrc file: /Users/ali/.netrc\n"
     ]
    },
    {
     "data": {
      "text/plain": "True"
     },
     "execution_count": 14,
     "metadata": {},
     "output_type": "execute_result"
    }
   ],
   "source": [
    "wandb.login(key='0cb83bc9a5846fcf65d61828affb68d2b53beb08')"
   ],
   "metadata": {
    "collapsed": false,
    "ExecuteTime": {
     "end_time": "2025-01-26T23:13:59.436018Z",
     "start_time": "2025-01-26T23:13:59.229782Z"
    }
   },
   "id": "c45fc31d22e51825",
   "execution_count": 14
  },
  {
   "cell_type": "code",
   "execution_count": 11,
   "id": "803c37e2-7ff5-46a6-afb7-b80cb69f7501",
   "metadata": {
    "height": 30,
    "ExecuteTime": {
     "end_time": "2025-01-26T23:12:10.556307Z",
     "start_time": "2025-01-26T23:12:10.551764Z"
    }
   },
   "outputs": [
    {
     "data": {
      "text/plain": "True"
     },
     "execution_count": 11,
     "metadata": {},
     "output_type": "execute_result"
    }
   ],
   "source": [
    "#wandb.login(anonymous=\"allow\")"
   ]
  },
  {
   "cell_type": "code",
   "outputs": [],
   "source": [],
   "metadata": {
    "collapsed": false
   },
   "id": "a2614444b9224fb8"
  },
  {
   "cell_type": "markdown",
   "id": "b3df2485",
   "metadata": {},
   "source": [
    "### Train model\n",
    "Let's train the model with default config and check how it's doing in W&B. "
   ]
  },
  {
   "cell_type": "code",
   "execution_count": 15,
   "id": "9423c964-f7e3-4d3b-8a24-e70f7f4414c6",
   "metadata": {
    "height": 30,
    "ExecuteTime": {
     "end_time": "2025-01-26T23:14:47.447119Z",
     "start_time": "2025-01-26T23:14:18.682877Z"
    }
   },
   "outputs": [
    {
     "name": "stderr",
     "output_type": "stream",
     "text": [
      "\u001B[34m\u001B[1mwandb\u001B[0m: Currently logged in as: \u001B[33mali-ghorbanpour-ce\u001B[0m (\u001B[33mali-ghorbanpour-ce-simon-fraser-university\u001B[0m). Use \u001B[1m`wandb login --relogin`\u001B[0m to force relogin\n",
      "\u001B[34m\u001B[1mwandb\u001B[0m: Using wandb-core as the SDK backend.  Please refer to https://wandb.me/wandb-core for more information.\n"
     ]
    },
    {
     "data": {
      "text/plain": "<IPython.core.display.HTML object>",
      "text/html": "Tracking run with wandb version 0.19.4"
     },
     "metadata": {},
     "output_type": "display_data"
    },
    {
     "data": {
      "text/plain": "<IPython.core.display.HTML object>",
      "text/html": "Run data is saved locally in <code>/Users/ali/PycharmProjects/Self-Study/Evaluating and Debugging Generative AI/wandb/run-20250126_151418-52u4qvkw</code>"
     },
     "metadata": {},
     "output_type": "display_data"
    },
    {
     "data": {
      "text/plain": "<IPython.core.display.HTML object>",
      "text/html": "Syncing run <strong><a href='https://wandb.ai/ali-ghorbanpour-ce-simon-fraser-university/dlai_intro/runs/52u4qvkw?apiKey=0cb83bc9a5846fcf65d61828affb68d2b53beb08' target=\"_blank\">eager-meadow-1</a></strong> to <a href='https://wandb.ai/ali-ghorbanpour-ce-simon-fraser-university/dlai_intro?apiKey=0cb83bc9a5846fcf65d61828affb68d2b53beb08' target=\"_blank\">Weights & Biases</a> (<a href='https://wandb.me/developer-guide' target=\"_blank\">docs</a>)<br>"
     },
     "metadata": {},
     "output_type": "display_data"
    },
    {
     "data": {
      "text/plain": "<IPython.core.display.HTML object>",
      "text/html": " View project at <a href='https://wandb.ai/ali-ghorbanpour-ce-simon-fraser-university/dlai_intro?apiKey=0cb83bc9a5846fcf65d61828affb68d2b53beb08' target=\"_blank\">https://wandb.ai/ali-ghorbanpour-ce-simon-fraser-university/dlai_intro?apiKey=0cb83bc9a5846fcf65d61828affb68d2b53beb08</a>"
     },
     "metadata": {},
     "output_type": "display_data"
    },
    {
     "data": {
      "text/plain": "<IPython.core.display.HTML object>",
      "text/html": " View run at <a href='https://wandb.ai/ali-ghorbanpour-ce-simon-fraser-university/dlai_intro/runs/52u4qvkw?apiKey=0cb83bc9a5846fcf65d61828affb68d2b53beb08' target=\"_blank\">https://wandb.ai/ali-ghorbanpour-ce-simon-fraser-university/dlai_intro/runs/52u4qvkw?apiKey=0cb83bc9a5846fcf65d61828affb68d2b53beb08</a>"
     },
     "metadata": {},
     "output_type": "display_data"
    },
    {
     "data": {
      "text/plain": "<IPython.core.display.HTML object>",
      "text/html": "Do NOT share these links with anyone. They can be used to claim your runs."
     },
     "metadata": {},
     "output_type": "display_data"
    },
    {
     "data": {
      "text/plain": "  0%|          | 0/2 [00:00<?, ?it/s]",
      "application/vnd.jupyter.widget-view+json": {
       "version_major": 2,
       "version_minor": 0,
       "model_id": "fda48d25f2cc42bea01575d5faa37a48"
      }
     },
     "metadata": {},
     "output_type": "display_data"
    },
    {
     "data": {
      "text/plain": "<IPython.core.display.HTML object>",
      "text/html": ""
     },
     "metadata": {},
     "output_type": "display_data"
    },
    {
     "data": {
      "text/plain": "<IPython.core.display.HTML object>",
      "text/html": "<br>    <style><br>        .wandb-row {<br>            display: flex;<br>            flex-direction: row;<br>            flex-wrap: wrap;<br>            justify-content: flex-start;<br>            width: 100%;<br>        }<br>        .wandb-col {<br>            display: flex;<br>            flex-direction: column;<br>            flex-basis: 100%;<br>            flex: 1;<br>            padding: 10px;<br>        }<br>    </style><br><div class=\"wandb-row\"><div class=\"wandb-col\"><h3>Run history:</h3><br/><table class=\"wandb\"><tr><td>train/epoch</td><td>▁▁▁▁▁▁▁▁▁▁▁▁▁▁▁▁▁▁▁▁▁███████████████████</td></tr><tr><td>train/example_ct</td><td>▁▁▁▁▁▂▂▂▂▂▃▃▃▃▃▄▄▄▄▄▅▅▅▅▆▆▆▆▆▆▇▇▇▇▇▇▇▇██</td></tr><tr><td>train/train_loss</td><td>██▆▇▇█▆▇▆▇█▆▆▅▅▆▆▄▅▆▃▄▅▅▅▄▃▃▃▄▃▂▁▂▂▂▂▂▂▂</td></tr><tr><td>val/val_accuracy</td><td>▁█</td></tr><tr><td>val/val_loss</td><td>█▁</td></tr></table><br/></div><div class=\"wandb-col\"><h3>Run summary:</h3><br/><table class=\"wandb\"><tr><td>train/epoch</td><td>2</td></tr><tr><td>train/example_ct</td><td>16000</td></tr><tr><td>train/train_loss</td><td>1.19926</td></tr><tr><td>val/val_accuracy</td><td>0.6875</td></tr><tr><td>val/val_loss</td><td>1.16773</td></tr></table><br/></div></div>"
     },
     "metadata": {},
     "output_type": "display_data"
    },
    {
     "data": {
      "text/plain": "<IPython.core.display.HTML object>",
      "text/html": " View run <strong style=\"color:#cdcd00\">eager-meadow-1</strong> at: <a href='https://wandb.ai/ali-ghorbanpour-ce-simon-fraser-university/dlai_intro/runs/52u4qvkw?apiKey=0cb83bc9a5846fcf65d61828affb68d2b53beb08' target=\"_blank\">https://wandb.ai/ali-ghorbanpour-ce-simon-fraser-university/dlai_intro/runs/52u4qvkw?apiKey=0cb83bc9a5846fcf65d61828affb68d2b53beb08</a><br> View project at: <a href='https://wandb.ai/ali-ghorbanpour-ce-simon-fraser-university/dlai_intro?apiKey=0cb83bc9a5846fcf65d61828affb68d2b53beb08' target=\"_blank\">https://wandb.ai/ali-ghorbanpour-ce-simon-fraser-university/dlai_intro?apiKey=0cb83bc9a5846fcf65d61828affb68d2b53beb08</a><br>Synced 5 W&B file(s), 0 media file(s), 0 artifact file(s) and 0 other file(s)"
     },
     "metadata": {},
     "output_type": "display_data"
    },
    {
     "data": {
      "text/plain": "<IPython.core.display.HTML object>",
      "text/html": "Find logs at: <code>./wandb/run-20250126_151418-52u4qvkw/logs</code>"
     },
     "metadata": {},
     "output_type": "display_data"
    }
   ],
   "source": [
    "train_model(config)"
   ]
  },
  {
   "cell_type": "code",
   "execution_count": 16,
   "id": "15b09eb4-e0a8-457d-919b-9bc7b9e1a56d",
   "metadata": {
    "height": 81,
    "ExecuteTime": {
     "end_time": "2025-01-26T23:15:14.824041Z",
     "start_time": "2025-01-26T23:14:47.448490Z"
    }
   },
   "outputs": [
    {
     "data": {
      "text/plain": "<IPython.core.display.HTML object>",
      "text/html": "Tracking run with wandb version 0.19.4"
     },
     "metadata": {},
     "output_type": "display_data"
    },
    {
     "data": {
      "text/plain": "<IPython.core.display.HTML object>",
      "text/html": "Run data is saved locally in <code>/Users/ali/PycharmProjects/Self-Study/Evaluating and Debugging Generative AI/wandb/run-20250126_151447-6qkqjc3s</code>"
     },
     "metadata": {},
     "output_type": "display_data"
    },
    {
     "data": {
      "text/plain": "<IPython.core.display.HTML object>",
      "text/html": "Syncing run <strong><a href='https://wandb.ai/ali-ghorbanpour-ce-simon-fraser-university/dlai_intro/runs/6qkqjc3s?apiKey=0cb83bc9a5846fcf65d61828affb68d2b53beb08' target=\"_blank\">wild-universe-2</a></strong> to <a href='https://wandb.ai/ali-ghorbanpour-ce-simon-fraser-university/dlai_intro?apiKey=0cb83bc9a5846fcf65d61828affb68d2b53beb08' target=\"_blank\">Weights & Biases</a> (<a href='https://wandb.me/developer-guide' target=\"_blank\">docs</a>)<br>"
     },
     "metadata": {},
     "output_type": "display_data"
    },
    {
     "data": {
      "text/plain": "<IPython.core.display.HTML object>",
      "text/html": " View project at <a href='https://wandb.ai/ali-ghorbanpour-ce-simon-fraser-university/dlai_intro?apiKey=0cb83bc9a5846fcf65d61828affb68d2b53beb08' target=\"_blank\">https://wandb.ai/ali-ghorbanpour-ce-simon-fraser-university/dlai_intro?apiKey=0cb83bc9a5846fcf65d61828affb68d2b53beb08</a>"
     },
     "metadata": {},
     "output_type": "display_data"
    },
    {
     "data": {
      "text/plain": "<IPython.core.display.HTML object>",
      "text/html": " View run at <a href='https://wandb.ai/ali-ghorbanpour-ce-simon-fraser-university/dlai_intro/runs/6qkqjc3s?apiKey=0cb83bc9a5846fcf65d61828affb68d2b53beb08' target=\"_blank\">https://wandb.ai/ali-ghorbanpour-ce-simon-fraser-university/dlai_intro/runs/6qkqjc3s?apiKey=0cb83bc9a5846fcf65d61828affb68d2b53beb08</a>"
     },
     "metadata": {},
     "output_type": "display_data"
    },
    {
     "data": {
      "text/plain": "<IPython.core.display.HTML object>",
      "text/html": "Do NOT share these links with anyone. They can be used to claim your runs."
     },
     "metadata": {},
     "output_type": "display_data"
    },
    {
     "data": {
      "text/plain": "  0%|          | 0/2 [00:00<?, ?it/s]",
      "application/vnd.jupyter.widget-view+json": {
       "version_major": 2,
       "version_minor": 0,
       "model_id": "4f403bb20b99436db73ed453eb423bd1"
      }
     },
     "metadata": {},
     "output_type": "display_data"
    },
    {
     "data": {
      "text/plain": "<IPython.core.display.HTML object>",
      "text/html": ""
     },
     "metadata": {},
     "output_type": "display_data"
    },
    {
     "data": {
      "text/plain": "<IPython.core.display.HTML object>",
      "text/html": "<br>    <style><br>        .wandb-row {<br>            display: flex;<br>            flex-direction: row;<br>            flex-wrap: wrap;<br>            justify-content: flex-start;<br>            width: 100%;<br>        }<br>        .wandb-col {<br>            display: flex;<br>            flex-direction: column;<br>            flex-basis: 100%;<br>            flex: 1;<br>            padding: 10px;<br>        }<br>    </style><br><div class=\"wandb-row\"><div class=\"wandb-col\"><h3>Run history:</h3><br/><table class=\"wandb\"><tr><td>train/epoch</td><td>▁▁▁▁▁▁▁▁▁▁▁▁▁▁▁▁▁███████████████████████</td></tr><tr><td>train/example_ct</td><td>▁▁▁▂▂▂▂▂▂▂▃▃▃▃▃▃▃▄▄▄▅▅▅▅▅▆▆▆▆▇▇▇▇▇▇█████</td></tr><tr><td>train/train_loss</td><td>██▇▇▇▅▅▅▅▄▄▄▄▄▃▄▃▃▃▃▃▃▂▃▂▂▂▂▂▂▂▂▂▁▁▁▁▁▂▁</td></tr><tr><td>val/val_accuracy</td><td>▁█</td></tr><tr><td>val/val_loss</td><td>█▁</td></tr></table><br/></div><div class=\"wandb-col\"><h3>Run summary:</h3><br/><table class=\"wandb\"><tr><td>train/epoch</td><td>2</td></tr><tr><td>train/example_ct</td><td>16000</td></tr><tr><td>train/train_loss</td><td>0.35791</td></tr><tr><td>val/val_accuracy</td><td>0.9435</td></tr><tr><td>val/val_loss</td><td>0.33512</td></tr></table><br/></div></div>"
     },
     "metadata": {},
     "output_type": "display_data"
    },
    {
     "data": {
      "text/plain": "<IPython.core.display.HTML object>",
      "text/html": " View run <strong style=\"color:#cdcd00\">wild-universe-2</strong> at: <a href='https://wandb.ai/ali-ghorbanpour-ce-simon-fraser-university/dlai_intro/runs/6qkqjc3s?apiKey=0cb83bc9a5846fcf65d61828affb68d2b53beb08' target=\"_blank\">https://wandb.ai/ali-ghorbanpour-ce-simon-fraser-university/dlai_intro/runs/6qkqjc3s?apiKey=0cb83bc9a5846fcf65d61828affb68d2b53beb08</a><br> View project at: <a href='https://wandb.ai/ali-ghorbanpour-ce-simon-fraser-university/dlai_intro?apiKey=0cb83bc9a5846fcf65d61828affb68d2b53beb08' target=\"_blank\">https://wandb.ai/ali-ghorbanpour-ce-simon-fraser-university/dlai_intro?apiKey=0cb83bc9a5846fcf65d61828affb68d2b53beb08</a><br>Synced 5 W&B file(s), 0 media file(s), 0 artifact file(s) and 0 other file(s)"
     },
     "metadata": {},
     "output_type": "display_data"
    },
    {
     "data": {
      "text/plain": "<IPython.core.display.HTML object>",
      "text/html": "Find logs at: <code>./wandb/run-20250126_151447-6qkqjc3s/logs</code>"
     },
     "metadata": {},
     "output_type": "display_data"
    }
   ],
   "source": [
    "# So let's change the learning rate to a 1e-3 \n",
    "# and see how this affects our results.\n",
    "config.lr = 1e-4\n",
    "train_model(config)"
   ]
  },
  {
   "cell_type": "code",
   "execution_count": 17,
   "id": "7837e71e-1e26-496b-b5e2-edabcf3fc676",
   "metadata": {
    "height": 47,
    "ExecuteTime": {
     "end_time": "2025-01-26T23:15:42.280537Z",
     "start_time": "2025-01-26T23:15:14.826536Z"
    }
   },
   "outputs": [
    {
     "data": {
      "text/plain": "<IPython.core.display.HTML object>",
      "text/html": "Tracking run with wandb version 0.19.4"
     },
     "metadata": {},
     "output_type": "display_data"
    },
    {
     "data": {
      "text/plain": "<IPython.core.display.HTML object>",
      "text/html": "Run data is saved locally in <code>/Users/ali/PycharmProjects/Self-Study/Evaluating and Debugging Generative AI/wandb/run-20250126_151514-1hzgh2k5</code>"
     },
     "metadata": {},
     "output_type": "display_data"
    },
    {
     "data": {
      "text/plain": "<IPython.core.display.HTML object>",
      "text/html": "Syncing run <strong><a href='https://wandb.ai/ali-ghorbanpour-ce-simon-fraser-university/dlai_intro/runs/1hzgh2k5?apiKey=0cb83bc9a5846fcf65d61828affb68d2b53beb08' target=\"_blank\">vital-wood-3</a></strong> to <a href='https://wandb.ai/ali-ghorbanpour-ce-simon-fraser-university/dlai_intro?apiKey=0cb83bc9a5846fcf65d61828affb68d2b53beb08' target=\"_blank\">Weights & Biases</a> (<a href='https://wandb.me/developer-guide' target=\"_blank\">docs</a>)<br>"
     },
     "metadata": {},
     "output_type": "display_data"
    },
    {
     "data": {
      "text/plain": "<IPython.core.display.HTML object>",
      "text/html": " View project at <a href='https://wandb.ai/ali-ghorbanpour-ce-simon-fraser-university/dlai_intro?apiKey=0cb83bc9a5846fcf65d61828affb68d2b53beb08' target=\"_blank\">https://wandb.ai/ali-ghorbanpour-ce-simon-fraser-university/dlai_intro?apiKey=0cb83bc9a5846fcf65d61828affb68d2b53beb08</a>"
     },
     "metadata": {},
     "output_type": "display_data"
    },
    {
     "data": {
      "text/plain": "<IPython.core.display.HTML object>",
      "text/html": " View run at <a href='https://wandb.ai/ali-ghorbanpour-ce-simon-fraser-university/dlai_intro/runs/1hzgh2k5?apiKey=0cb83bc9a5846fcf65d61828affb68d2b53beb08' target=\"_blank\">https://wandb.ai/ali-ghorbanpour-ce-simon-fraser-university/dlai_intro/runs/1hzgh2k5?apiKey=0cb83bc9a5846fcf65d61828affb68d2b53beb08</a>"
     },
     "metadata": {},
     "output_type": "display_data"
    },
    {
     "data": {
      "text/plain": "<IPython.core.display.HTML object>",
      "text/html": "Do NOT share these links with anyone. They can be used to claim your runs."
     },
     "metadata": {},
     "output_type": "display_data"
    },
    {
     "data": {
      "text/plain": "  0%|          | 0/2 [00:00<?, ?it/s]",
      "application/vnd.jupyter.widget-view+json": {
       "version_major": 2,
       "version_minor": 0,
       "model_id": "4c79c62b96d8415bbf51e89c564a5405"
      }
     },
     "metadata": {},
     "output_type": "display_data"
    },
    {
     "data": {
      "text/plain": "<IPython.core.display.HTML object>",
      "text/html": ""
     },
     "metadata": {},
     "output_type": "display_data"
    },
    {
     "data": {
      "text/plain": "<IPython.core.display.HTML object>",
      "text/html": "<br>    <style><br>        .wandb-row {<br>            display: flex;<br>            flex-direction: row;<br>            flex-wrap: wrap;<br>            justify-content: flex-start;<br>            width: 100%;<br>        }<br>        .wandb-col {<br>            display: flex;<br>            flex-direction: column;<br>            flex-basis: 100%;<br>            flex: 1;<br>            padding: 10px;<br>        }<br>    </style><br><div class=\"wandb-row\"><div class=\"wandb-col\"><h3>Run history:</h3><br/><table class=\"wandb\"><tr><td>train/epoch</td><td>▁▁▁▁▁▁▁▁▁▁▁▁▁▁▁▁▁▁▁█████████████████████</td></tr><tr><td>train/example_ct</td><td>▁▁▁▁▁▂▂▂▂▂▂▂▃▃▃▃▄▄▄▄▄▄▄▅▅▅▅▅▅▆▆▆▆▇▇▇▇███</td></tr><tr><td>train/train_loss</td><td>█▇▇▇▆▅▅▄▄▅▄▄▃▄▃▄▃▃▂▃▃▂▂▂▂▂▂▂▂▂▂▂▁▂▂▂▂▁▁▁</td></tr><tr><td>val/val_accuracy</td><td>▁█</td></tr><tr><td>val/val_loss</td><td>█▁</td></tr></table><br/></div><div class=\"wandb-col\"><h3>Run summary:</h3><br/><table class=\"wandb\"><tr><td>train/epoch</td><td>2</td></tr><tr><td>train/example_ct</td><td>16000</td></tr><tr><td>train/train_loss</td><td>0.39676</td></tr><tr><td>val/val_accuracy</td><td>0.945</td></tr><tr><td>val/val_loss</td><td>0.35868</td></tr></table><br/></div></div>"
     },
     "metadata": {},
     "output_type": "display_data"
    },
    {
     "data": {
      "text/plain": "<IPython.core.display.HTML object>",
      "text/html": " View run <strong style=\"color:#cdcd00\">vital-wood-3</strong> at: <a href='https://wandb.ai/ali-ghorbanpour-ce-simon-fraser-university/dlai_intro/runs/1hzgh2k5?apiKey=0cb83bc9a5846fcf65d61828affb68d2b53beb08' target=\"_blank\">https://wandb.ai/ali-ghorbanpour-ce-simon-fraser-university/dlai_intro/runs/1hzgh2k5?apiKey=0cb83bc9a5846fcf65d61828affb68d2b53beb08</a><br> View project at: <a href='https://wandb.ai/ali-ghorbanpour-ce-simon-fraser-university/dlai_intro?apiKey=0cb83bc9a5846fcf65d61828affb68d2b53beb08' target=\"_blank\">https://wandb.ai/ali-ghorbanpour-ce-simon-fraser-university/dlai_intro?apiKey=0cb83bc9a5846fcf65d61828affb68d2b53beb08</a><br>Synced 5 W&B file(s), 0 media file(s), 0 artifact file(s) and 0 other file(s)"
     },
     "metadata": {},
     "output_type": "display_data"
    },
    {
     "data": {
      "text/plain": "<IPython.core.display.HTML object>",
      "text/html": "Find logs at: <code>./wandb/run-20250126_151514-1hzgh2k5/logs</code>"
     },
     "metadata": {},
     "output_type": "display_data"
    }
   ],
   "source": [
    "config.lr = 1e-4\n",
    "train_model(config)"
   ]
  },
  {
   "cell_type": "code",
   "execution_count": 18,
   "id": "065e3961-a9b7-4ab0-94dd-a07ef17f9217",
   "metadata": {
    "height": 64,
    "ExecuteTime": {
     "end_time": "2025-01-26T23:15:57.017811Z",
     "start_time": "2025-01-26T23:15:42.284048Z"
    }
   },
   "outputs": [
    {
     "data": {
      "text/plain": "<IPython.core.display.HTML object>",
      "text/html": "Tracking run with wandb version 0.19.4"
     },
     "metadata": {},
     "output_type": "display_data"
    },
    {
     "data": {
      "text/plain": "<IPython.core.display.HTML object>",
      "text/html": "Run data is saved locally in <code>/Users/ali/PycharmProjects/Self-Study/Evaluating and Debugging Generative AI/wandb/run-20250126_151542-lal4wmiw</code>"
     },
     "metadata": {},
     "output_type": "display_data"
    },
    {
     "data": {
      "text/plain": "<IPython.core.display.HTML object>",
      "text/html": "Syncing run <strong><a href='https://wandb.ai/ali-ghorbanpour-ce-simon-fraser-university/dlai_intro/runs/lal4wmiw?apiKey=0cb83bc9a5846fcf65d61828affb68d2b53beb08' target=\"_blank\">deft-plant-4</a></strong> to <a href='https://wandb.ai/ali-ghorbanpour-ce-simon-fraser-university/dlai_intro?apiKey=0cb83bc9a5846fcf65d61828affb68d2b53beb08' target=\"_blank\">Weights & Biases</a> (<a href='https://wandb.me/developer-guide' target=\"_blank\">docs</a>)<br>"
     },
     "metadata": {},
     "output_type": "display_data"
    },
    {
     "data": {
      "text/plain": "<IPython.core.display.HTML object>",
      "text/html": " View project at <a href='https://wandb.ai/ali-ghorbanpour-ce-simon-fraser-university/dlai_intro?apiKey=0cb83bc9a5846fcf65d61828affb68d2b53beb08' target=\"_blank\">https://wandb.ai/ali-ghorbanpour-ce-simon-fraser-university/dlai_intro?apiKey=0cb83bc9a5846fcf65d61828affb68d2b53beb08</a>"
     },
     "metadata": {},
     "output_type": "display_data"
    },
    {
     "data": {
      "text/plain": "<IPython.core.display.HTML object>",
      "text/html": " View run at <a href='https://wandb.ai/ali-ghorbanpour-ce-simon-fraser-university/dlai_intro/runs/lal4wmiw?apiKey=0cb83bc9a5846fcf65d61828affb68d2b53beb08' target=\"_blank\">https://wandb.ai/ali-ghorbanpour-ce-simon-fraser-university/dlai_intro/runs/lal4wmiw?apiKey=0cb83bc9a5846fcf65d61828affb68d2b53beb08</a>"
     },
     "metadata": {},
     "output_type": "display_data"
    },
    {
     "data": {
      "text/plain": "<IPython.core.display.HTML object>",
      "text/html": "Do NOT share these links with anyone. They can be used to claim your runs."
     },
     "metadata": {},
     "output_type": "display_data"
    },
    {
     "data": {
      "text/plain": "  0%|          | 0/1 [00:00<?, ?it/s]",
      "application/vnd.jupyter.widget-view+json": {
       "version_major": 2,
       "version_minor": 0,
       "model_id": "3da74b7c7296437699f980a33f8e9018"
      }
     },
     "metadata": {},
     "output_type": "display_data"
    },
    {
     "data": {
      "text/plain": "<IPython.core.display.HTML object>",
      "text/html": ""
     },
     "metadata": {},
     "output_type": "display_data"
    },
    {
     "data": {
      "text/plain": "<IPython.core.display.HTML object>",
      "text/html": "<br>    <style><br>        .wandb-row {<br>            display: flex;<br>            flex-direction: row;<br>            flex-wrap: wrap;<br>            justify-content: flex-start;<br>            width: 100%;<br>        }<br>        .wandb-col {<br>            display: flex;<br>            flex-direction: column;<br>            flex-basis: 100%;<br>            flex: 1;<br>            padding: 10px;<br>        }<br>    </style><br><div class=\"wandb-row\"><div class=\"wandb-col\"><h3>Run history:</h3><br/><table class=\"wandb\"><tr><td>train/epoch</td><td>▁▁▁▁▁▁▁▁▁▁▁▁▁▁▁▁▁▁▁▁▁▁▁▁▁▁▁▁▁▁▁▁▁▁▁▁▁▁▁▁</td></tr><tr><td>train/example_ct</td><td>▁▁▂▂▂▂▂▂▂▃▃▃▃▄▄▄▄▄▅▅▅▅▅▅▅▆▆▆▆▆▆▇▇▇▇▇▇███</td></tr><tr><td>train/train_loss</td><td>██▇▇▇▆▆▆▅▅▄▄▃▄▄▃▃▃▃▃▃▂▂▃▂▂▃▂▂▂▁▁▂▁▁▁▁▁▁▁</td></tr><tr><td>val/val_accuracy</td><td>▁</td></tr><tr><td>val/val_loss</td><td>▁</td></tr></table><br/></div><div class=\"wandb-col\"><h3>Run summary:</h3><br/><table class=\"wandb\"><tr><td>train/epoch</td><td>1</td></tr><tr><td>train/example_ct</td><td>8000</td></tr><tr><td>train/train_loss</td><td>0.54941</td></tr><tr><td>val/val_accuracy</td><td>0.915</td></tr><tr><td>val/val_loss</td><td>0.51786</td></tr></table><br/></div></div>"
     },
     "metadata": {},
     "output_type": "display_data"
    },
    {
     "data": {
      "text/plain": "<IPython.core.display.HTML object>",
      "text/html": " View run <strong style=\"color:#cdcd00\">deft-plant-4</strong> at: <a href='https://wandb.ai/ali-ghorbanpour-ce-simon-fraser-university/dlai_intro/runs/lal4wmiw?apiKey=0cb83bc9a5846fcf65d61828affb68d2b53beb08' target=\"_blank\">https://wandb.ai/ali-ghorbanpour-ce-simon-fraser-university/dlai_intro/runs/lal4wmiw?apiKey=0cb83bc9a5846fcf65d61828affb68d2b53beb08</a><br> View project at: <a href='https://wandb.ai/ali-ghorbanpour-ce-simon-fraser-university/dlai_intro?apiKey=0cb83bc9a5846fcf65d61828affb68d2b53beb08' target=\"_blank\">https://wandb.ai/ali-ghorbanpour-ce-simon-fraser-university/dlai_intro?apiKey=0cb83bc9a5846fcf65d61828affb68d2b53beb08</a><br>Synced 5 W&B file(s), 0 media file(s), 0 artifact file(s) and 0 other file(s)"
     },
     "metadata": {},
     "output_type": "display_data"
    },
    {
     "data": {
      "text/plain": "<IPython.core.display.HTML object>",
      "text/html": "Find logs at: <code>./wandb/run-20250126_151542-lal4wmiw/logs</code>"
     },
     "metadata": {},
     "output_type": "display_data"
    }
   ],
   "source": [
    "config.dropout = 0.1\n",
    "config.epochs = 1\n",
    "train_model(config)"
   ]
  },
  {
   "cell_type": "code",
   "execution_count": 19,
   "id": "be0b2f81-2af6-44fd-a135-3bc32f09e229",
   "metadata": {
    "height": 47,
    "ExecuteTime": {
     "end_time": "2025-01-26T23:16:11.797268Z",
     "start_time": "2025-01-26T23:15:57.018771Z"
    }
   },
   "outputs": [
    {
     "data": {
      "text/plain": "<IPython.core.display.HTML object>",
      "text/html": "Tracking run with wandb version 0.19.4"
     },
     "metadata": {},
     "output_type": "display_data"
    },
    {
     "data": {
      "text/plain": "<IPython.core.display.HTML object>",
      "text/html": "Run data is saved locally in <code>/Users/ali/PycharmProjects/Self-Study/Evaluating and Debugging Generative AI/wandb/run-20250126_151557-vz6pyjrg</code>"
     },
     "metadata": {},
     "output_type": "display_data"
    },
    {
     "data": {
      "text/plain": "<IPython.core.display.HTML object>",
      "text/html": "Syncing run <strong><a href='https://wandb.ai/ali-ghorbanpour-ce-simon-fraser-university/dlai_intro/runs/vz6pyjrg?apiKey=0cb83bc9a5846fcf65d61828affb68d2b53beb08' target=\"_blank\">lunar-wave-5</a></strong> to <a href='https://wandb.ai/ali-ghorbanpour-ce-simon-fraser-university/dlai_intro?apiKey=0cb83bc9a5846fcf65d61828affb68d2b53beb08' target=\"_blank\">Weights & Biases</a> (<a href='https://wandb.me/developer-guide' target=\"_blank\">docs</a>)<br>"
     },
     "metadata": {},
     "output_type": "display_data"
    },
    {
     "data": {
      "text/plain": "<IPython.core.display.HTML object>",
      "text/html": " View project at <a href='https://wandb.ai/ali-ghorbanpour-ce-simon-fraser-university/dlai_intro?apiKey=0cb83bc9a5846fcf65d61828affb68d2b53beb08' target=\"_blank\">https://wandb.ai/ali-ghorbanpour-ce-simon-fraser-university/dlai_intro?apiKey=0cb83bc9a5846fcf65d61828affb68d2b53beb08</a>"
     },
     "metadata": {},
     "output_type": "display_data"
    },
    {
     "data": {
      "text/plain": "<IPython.core.display.HTML object>",
      "text/html": " View run at <a href='https://wandb.ai/ali-ghorbanpour-ce-simon-fraser-university/dlai_intro/runs/vz6pyjrg?apiKey=0cb83bc9a5846fcf65d61828affb68d2b53beb08' target=\"_blank\">https://wandb.ai/ali-ghorbanpour-ce-simon-fraser-university/dlai_intro/runs/vz6pyjrg?apiKey=0cb83bc9a5846fcf65d61828affb68d2b53beb08</a>"
     },
     "metadata": {},
     "output_type": "display_data"
    },
    {
     "data": {
      "text/plain": "<IPython.core.display.HTML object>",
      "text/html": "Do NOT share these links with anyone. They can be used to claim your runs."
     },
     "metadata": {},
     "output_type": "display_data"
    },
    {
     "data": {
      "text/plain": "  0%|          | 0/1 [00:00<?, ?it/s]",
      "application/vnd.jupyter.widget-view+json": {
       "version_major": 2,
       "version_minor": 0,
       "model_id": "c046e1ceb3d84c70846ad7f6c9326fba"
      }
     },
     "metadata": {},
     "output_type": "display_data"
    },
    {
     "data": {
      "text/plain": "<IPython.core.display.HTML object>",
      "text/html": ""
     },
     "metadata": {},
     "output_type": "display_data"
    },
    {
     "data": {
      "text/plain": "<IPython.core.display.HTML object>",
      "text/html": "<br>    <style><br>        .wandb-row {<br>            display: flex;<br>            flex-direction: row;<br>            flex-wrap: wrap;<br>            justify-content: flex-start;<br>            width: 100%;<br>        }<br>        .wandb-col {<br>            display: flex;<br>            flex-direction: column;<br>            flex-basis: 100%;<br>            flex: 1;<br>            padding: 10px;<br>        }<br>    </style><br><div class=\"wandb-row\"><div class=\"wandb-col\"><h3>Run history:</h3><br/><table class=\"wandb\"><tr><td>train/epoch</td><td>▁▁▁▁▁▁▁▁▁▁▁▁▁▁▁▁▁▁▁▁▁▁▁▁▁▁▁▁▁▁▁▁▁▁▁▁▁▁▁▁</td></tr><tr><td>train/example_ct</td><td>▁▁▁▂▂▂▂▂▂▃▃▃▃▃▃▄▄▄▄▅▅▅▅▅▅▆▆▆▆▆▆▇▇▇▇▇████</td></tr><tr><td>train/train_loss</td><td>█▇▅▅▄▄▃▃▄▃▃▂▂▂▂▂▂▂▂▂▁▂▂▂▂▂▁▁▂▁▁▁▁▁▁▁▁▁▁▁</td></tr><tr><td>val/val_accuracy</td><td>▁</td></tr><tr><td>val/val_loss</td><td>▁</td></tr></table><br/></div><div class=\"wandb-col\"><h3>Run summary:</h3><br/><table class=\"wandb\"><tr><td>train/epoch</td><td>1</td></tr><tr><td>train/example_ct</td><td>8000</td></tr><tr><td>train/train_loss</td><td>0.0762</td></tr><tr><td>val/val_accuracy</td><td>0.9985</td></tr><tr><td>val/val_loss</td><td>0.06164</td></tr></table><br/></div></div>"
     },
     "metadata": {},
     "output_type": "display_data"
    },
    {
     "data": {
      "text/plain": "<IPython.core.display.HTML object>",
      "text/html": " View run <strong style=\"color:#cdcd00\">lunar-wave-5</strong> at: <a href='https://wandb.ai/ali-ghorbanpour-ce-simon-fraser-university/dlai_intro/runs/vz6pyjrg?apiKey=0cb83bc9a5846fcf65d61828affb68d2b53beb08' target=\"_blank\">https://wandb.ai/ali-ghorbanpour-ce-simon-fraser-university/dlai_intro/runs/vz6pyjrg?apiKey=0cb83bc9a5846fcf65d61828affb68d2b53beb08</a><br> View project at: <a href='https://wandb.ai/ali-ghorbanpour-ce-simon-fraser-university/dlai_intro?apiKey=0cb83bc9a5846fcf65d61828affb68d2b53beb08' target=\"_blank\">https://wandb.ai/ali-ghorbanpour-ce-simon-fraser-university/dlai_intro?apiKey=0cb83bc9a5846fcf65d61828affb68d2b53beb08</a><br>Synced 5 W&B file(s), 0 media file(s), 0 artifact file(s) and 0 other file(s)"
     },
     "metadata": {},
     "output_type": "display_data"
    },
    {
     "data": {
      "text/plain": "<IPython.core.display.HTML object>",
      "text/html": "Find logs at: <code>./wandb/run-20250126_151557-vz6pyjrg/logs</code>"
     },
     "metadata": {},
     "output_type": "display_data"
    }
   ],
   "source": [
    "config.lr = 1e-3\n",
    "train_model(config)"
   ]
  },
  {
   "cell_type": "code",
   "execution_count": 12,
   "id": "a772569d-5bc3-44db-8837-feae41c75b67",
   "metadata": {
    "height": 30,
    "ExecuteTime": {
     "end_time": "2025-01-26T23:08:54.224234Z",
     "start_time": "2025-01-26T23:08:54.220687Z"
    }
   },
   "outputs": [],
   "source": []
  }
 ],
 "metadata": {
  "kernelspec": {
   "display_name": "Python 3 (ipykernel)",
   "language": "python",
   "name": "python3"
  },
  "language_info": {
   "codemirror_mode": {
    "name": "ipython",
    "version": 3
   },
   "file_extension": ".py",
   "mimetype": "text/x-python",
   "name": "python",
   "nbconvert_exporter": "python",
   "pygments_lexer": "ipython3",
   "version": "3.9.19"
  }
 },
 "nbformat": 4,
 "nbformat_minor": 5
}
